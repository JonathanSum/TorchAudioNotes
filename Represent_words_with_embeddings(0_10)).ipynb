{
  "nbformat": 4,
  "nbformat_minor": 0,
  "metadata": {
    "colab": {
      "name": "Copy of Represent words with embeddings(0.10)).ipynb",
      "provenance": [],
      "collapsed_sections": [],
      "machine_shape": "hm",
      "authorship_tag": "ABX9TyM8GNX7IraMr0SVDd6xjPhU",
      "include_colab_link": true
    },
    "kernelspec": {
      "name": "python3",
      "display_name": "Python 3"
    },
    "language_info": {
      "name": "python"
    },
    "accelerator": "GPU"
  },
  "cells": [
    {
      "cell_type": "markdown",
      "metadata": {
        "id": "view-in-github",
        "colab_type": "text"
      },
      "source": [
        "<a href=\"https://colab.research.google.com/github/JonathanSum/TorchAudio_and_TorchTextNotes/blob/main/Represent_words_with_embeddings(0_10)).ipynb\" target=\"_parent\"><img src=\"https://colab.research.google.com/assets/colab-badge.svg\" alt=\"Open In Colab\"/></a>"
      ]
    },
    {
      "cell_type": "code",
      "metadata": {
        "id": "sTp8bjGCBRNT"
      },
      "source": [
        "!wget -q https://raw.githubusercontent.com/MicrosoftDocs/pytorchfundamentals/main/nlp-pytorch/torchnlp.py"
      ],
      "execution_count": null,
      "outputs": []
    },
    {
      "cell_type": "code",
      "metadata": {
        "colab": {
          "base_uri": "https://localhost:8080/"
        },
        "id": "xMhPm2r8CohY",
        "outputId": "ebcdc4f0-fab1-436b-a1e1-b287e92b3781"
      },
      "source": [
        "import torch\n",
        "import torchtext\n",
        "import numpy as np\n",
        "from torchnlp import *\n",
        "train_dataset, test_dataset, classes, vocab = load_dataset()\n",
        "vocab_size = len(vocab)\n",
        "print(\"Vocab size = \",vocab_size)"
      ],
      "execution_count": 27,
      "outputs": [
        {
          "output_type": "stream",
          "text": [
            "Loading dataset...\n",
            "Building vocab...\n",
            "Vocab size =  95811\n"
          ],
          "name": "stdout"
        }
      ]
    },
    {
      "cell_type": "code",
      "metadata": {
        "id": "pZ6Vv9eSCu4g"
      },
      "source": [
        "class EmbedClassifier(torch.nn.Module):\n",
        "    def __init__(self, vocab_size, embed_dim, num_class):\n",
        "        super().__init__()\n",
        "        self.embedding = torch.nn.Embedding(vocab_size, embed_dim)\n",
        "        self.fc = torch.nn.Linear(embed_dim, num_class)\n",
        "\n",
        "    def forward(self, x):\n",
        "        x = self.embedding(x)\n",
        "        x = torch.mean(x,dim=1)\n",
        "        return self.fc(x)"
      ],
      "execution_count": 4,
      "outputs": []
    },
    {
      "cell_type": "code",
      "metadata": {
        "id": "Lc0uWVg_Cu6M"
      },
      "source": [
        "def padify(b):\n",
        "    # b is the list of tuples of length batch_size\n",
        "    #   - first element of a tuple = label, \n",
        "    #   - second = feature (text sequence)\n",
        "    # build vectorized sequence\n",
        "    v = [encode(x[1]) for x in b]\n",
        "    # first, compute max length of a sequence in this minibatch\n",
        "    l = max(map(len,v))\n",
        "    return ( # tuple of two tensors - labels and features\n",
        "        torch.LongTensor([t[0]-1 for t in b]),\n",
        "        torch.stack([torch.nn.functional.pad(torch.tensor(t),(0,l-len(t)),mode='constant',value=0) for t in v])\n",
        "    )\n",
        "\n",
        "train_loader = torch.utils.data.DataLoader(train_dataset, batch_size=16, collate_fn=padify, shuffle=True)"
      ],
      "execution_count": 5,
      "outputs": []
    },
    {
      "cell_type": "code",
      "metadata": {
        "colab": {
          "base_uri": "https://localhost:8080/",
          "height": 35
        },
        "id": "6R19M1xKE2lS",
        "outputId": "56d696d4-51ce-4403-c745-eea3809c37bb"
      },
      "source": [
        "torchtext.__version__"
      ],
      "execution_count": 5,
      "outputs": [
        {
          "output_type": "execute_result",
          "data": {
            "application/vnd.google.colaboratory.intrinsic+json": {
              "type": "string"
            },
            "text/plain": [
              "'0.10.0'"
            ]
          },
          "metadata": {
            "tags": []
          },
          "execution_count": 5
        }
      ]
    },
    {
      "cell_type": "code",
      "metadata": {
        "id": "NAJfI4m4DUi3"
      },
      "source": [
        "class EmbedClassifier(torch.nn.Module):\n",
        "    def __init__(self, vocab_size, embed_dim, num_class):\n",
        "        super().__init__()\n",
        "        self.embedding = torch.nn.EmbeddingBag(vocab_size, embed_dim)\n",
        "        self.fc = torch.nn.Linear(embed_dim, num_class)\n",
        "\n",
        "    def forward(self, text, off):\n",
        "        x = self.embedding(text, off)\n",
        "        return self.fc(x)"
      ],
      "execution_count": 6,
      "outputs": []
    },
    {
      "cell_type": "code",
      "metadata": {
        "id": "4S888jhAhSQM"
      },
      "source": [
        "net = EmbedClassifier(vocab_size,32,len(classes)).to(device)"
      ],
      "execution_count": 7,
      "outputs": []
    },
    {
      "cell_type": "code",
      "metadata": {
        "id": "MzYwFSIxd58u"
      },
      "source": [
        "def offsetify(b):\n",
        "    # first, compute data tensor from all sequences\n",
        "    x = [torch.tensor(encode(t[1])) for t in b]\n",
        "    # now, compute the offsets by accumulating the tensor of sequence lengths\n",
        "    o = [0] + [len(t) for t in x]\n",
        "    o = torch.tensor(o[:-1]).cumsum(dim=0)\n",
        "    return ( \n",
        "        torch.LongTensor([t[0]-1 for t in b]), # labels\n",
        "        torch.cat(x), # text \n",
        "        o\n",
        "    )\n",
        "\n",
        "train_loader = torch.utils.data.DataLoader(train_dataset, batch_size=16, collate_fn=offsetify, shuffle=True)"
      ],
      "execution_count": 8,
      "outputs": []
    },
    {
      "cell_type": "code",
      "metadata": {
        "colab": {
          "base_uri": "https://localhost:8080/"
        },
        "id": "QJCvWLRlfT4m",
        "outputId": "d4ddd766-dfe2-4682-8b5a-4d566c43c9f8"
      },
      "source": [
        "# i = 1\n",
        "# box1 = None\n",
        "# box2 = None\n",
        "# for labels,text,off in train_loader:\n",
        "#     box1 = text\n",
        "#     box2 = off\n",
        "#     print(text.shape)\n",
        "#     print(off)\n",
        "#     break"
      ],
      "execution_count": null,
      "outputs": [
        {
          "output_type": "stream",
          "text": [
            "torch.Size([778])\n",
            "tensor([  0,  37,  62,  90, 134, 176, 320, 383, 430, 471, 510, 558, 604, 644,\n",
            "        699, 738])\n"
          ],
          "name": "stdout"
        }
      ]
    },
    {
      "cell_type": "code",
      "metadata": {
        "colab": {
          "base_uri": "https://localhost:8080/"
        },
        "id": "jFfMJgybgK4t",
        "outputId": "c127cc2a-4ac7-438e-d1f9-b51cb33945b5"
      },
      "source": [
        "# len(box1)"
      ],
      "execution_count": null,
      "outputs": [
        {
          "output_type": "execute_result",
          "data": {
            "text/plain": [
              "688"
            ]
          },
          "metadata": {
            "tags": []
          },
          "execution_count": 45
        }
      ]
    },
    {
      "cell_type": "code",
      "metadata": {
        "id": "baxkEYtUfE5m"
      },
      "source": [
        "net = EmbedClassifier(vocab_size,32,len(classes)).to(device)\n",
        "\n",
        "def train_epoch_emb(net,dataloader,lr=0.01,optimizer=None,loss_fn = torch.nn.CrossEntropyLoss(),epoch_size=None, report_freq=200):\n",
        "    optimizer = optimizer or torch.optim.Adam(net.parameters(),lr=lr)\n",
        "    loss_fn = loss_fn.to(device)\n",
        "    net.train()\n",
        "    total_loss,acc,count,i = 0,0,0,0\n",
        "    for labels,text,off in dataloader:\n",
        "        optimizer.zero_grad()\n",
        "        labels,text,off = labels.to(device), text.to(device), off.to(device)\n",
        "        out = net(text, off)\n",
        "        loss = loss_fn(out,labels) #cross_entropy(out,labels)\n",
        "        loss.backward()\n",
        "        optimizer.step()\n",
        "        total_loss+=loss\n",
        "        _,predicted = torch.max(out,1)\n",
        "        acc+=(predicted==labels).sum()\n",
        "        count+=len(labels)\n",
        "        i+=1\n",
        "        if i%report_freq==0:\n",
        "            print(f\"{count}: acc={acc.item()/count}\")\n",
        "        if epoch_size and count>epoch_size:\n",
        "            break\n",
        "    return total_loss.item()/count, acc.item()/count\n",
        "\n",
        "\n",
        "# train_epoch_emb(net,train_loader, lr=4, epoch_size=25000)"
      ],
      "execution_count": 9,
      "outputs": []
    },
    {
      "cell_type": "code",
      "metadata": {
        "id": "uDv3IIZbi-5j",
        "colab": {
          "base_uri": "https://localhost:8080/",
          "height": 340
        },
        "outputId": "120b2f73-629e-42f1-9555-29f99336f26e"
      },
      "source": [
        "import gensim.downloader as api\n",
        "w2v = api.load('word2vec-google-news-300')"
      ],
      "execution_count": 10,
      "outputs": [
        {
          "output_type": "error",
          "ename": "KeyboardInterrupt",
          "evalue": "ignored",
          "traceback": [
            "\u001b[0;31m---------------------------------------------------------------------------\u001b[0m",
            "\u001b[0;31mKeyboardInterrupt\u001b[0m                         Traceback (most recent call last)",
            "\u001b[0;32m<ipython-input-10-34adaa6fdc36>\u001b[0m in \u001b[0;36m<module>\u001b[0;34m()\u001b[0m\n\u001b[1;32m      1\u001b[0m \u001b[0;32mimport\u001b[0m \u001b[0mgensim\u001b[0m\u001b[0;34m.\u001b[0m\u001b[0mdownloader\u001b[0m \u001b[0;32mas\u001b[0m \u001b[0mapi\u001b[0m\u001b[0;34m\u001b[0m\u001b[0;34m\u001b[0m\u001b[0m\n\u001b[0;32m----> 2\u001b[0;31m \u001b[0mw2v\u001b[0m \u001b[0;34m=\u001b[0m \u001b[0mapi\u001b[0m\u001b[0;34m.\u001b[0m\u001b[0mload\u001b[0m\u001b[0;34m(\u001b[0m\u001b[0;34m'word2vec-google-news-300'\u001b[0m\u001b[0;34m)\u001b[0m\u001b[0;34m\u001b[0m\u001b[0;34m\u001b[0m\u001b[0m\n\u001b[0m",
            "\u001b[0;32m/usr/local/lib/python3.7/dist-packages/gensim/downloader.py\u001b[0m in \u001b[0;36mload\u001b[0;34m(name, return_path)\u001b[0m\n\u001b[1;32m    422\u001b[0m         \u001b[0msys\u001b[0m\u001b[0;34m.\u001b[0m\u001b[0mpath\u001b[0m\u001b[0;34m.\u001b[0m\u001b[0minsert\u001b[0m\u001b[0;34m(\u001b[0m\u001b[0;36m0\u001b[0m\u001b[0;34m,\u001b[0m \u001b[0mbase_dir\u001b[0m\u001b[0;34m)\u001b[0m\u001b[0;34m\u001b[0m\u001b[0;34m\u001b[0m\u001b[0m\n\u001b[1;32m    423\u001b[0m         \u001b[0mmodule\u001b[0m \u001b[0;34m=\u001b[0m \u001b[0m__import__\u001b[0m\u001b[0;34m(\u001b[0m\u001b[0mname\u001b[0m\u001b[0;34m)\u001b[0m\u001b[0;34m\u001b[0m\u001b[0;34m\u001b[0m\u001b[0m\n\u001b[0;32m--> 424\u001b[0;31m         \u001b[0;32mreturn\u001b[0m \u001b[0mmodule\u001b[0m\u001b[0;34m.\u001b[0m\u001b[0mload_data\u001b[0m\u001b[0;34m(\u001b[0m\u001b[0;34m)\u001b[0m\u001b[0;34m\u001b[0m\u001b[0;34m\u001b[0m\u001b[0m\n\u001b[0m\u001b[1;32m    425\u001b[0m \u001b[0;34m\u001b[0m\u001b[0m\n\u001b[1;32m    426\u001b[0m \u001b[0;34m\u001b[0m\u001b[0m\n",
            "\u001b[0;32m/root/gensim-data/word2vec-google-news-300/__init__.py\u001b[0m in \u001b[0;36mload_data\u001b[0;34m()\u001b[0m\n\u001b[1;32m      6\u001b[0m \u001b[0;32mdef\u001b[0m \u001b[0mload_data\u001b[0m\u001b[0;34m(\u001b[0m\u001b[0;34m)\u001b[0m\u001b[0;34m:\u001b[0m\u001b[0;34m\u001b[0m\u001b[0;34m\u001b[0m\u001b[0m\n\u001b[1;32m      7\u001b[0m     \u001b[0mpath\u001b[0m \u001b[0;34m=\u001b[0m \u001b[0mos\u001b[0m\u001b[0;34m.\u001b[0m\u001b[0mpath\u001b[0m\u001b[0;34m.\u001b[0m\u001b[0mjoin\u001b[0m\u001b[0;34m(\u001b[0m\u001b[0mbase_dir\u001b[0m\u001b[0;34m,\u001b[0m \u001b[0;34m'word2vec-google-news-300'\u001b[0m\u001b[0;34m,\u001b[0m \u001b[0;34m\"word2vec-google-news-300.gz\"\u001b[0m\u001b[0;34m)\u001b[0m\u001b[0;34m\u001b[0m\u001b[0;34m\u001b[0m\u001b[0m\n\u001b[0;32m----> 8\u001b[0;31m     \u001b[0mmodel\u001b[0m \u001b[0;34m=\u001b[0m \u001b[0mKeyedVectors\u001b[0m\u001b[0;34m.\u001b[0m\u001b[0mload_word2vec_format\u001b[0m\u001b[0;34m(\u001b[0m\u001b[0mpath\u001b[0m\u001b[0;34m,\u001b[0m \u001b[0mbinary\u001b[0m\u001b[0;34m=\u001b[0m\u001b[0;32mTrue\u001b[0m\u001b[0;34m)\u001b[0m\u001b[0;34m\u001b[0m\u001b[0;34m\u001b[0m\u001b[0m\n\u001b[0m\u001b[1;32m      9\u001b[0m     \u001b[0;32mreturn\u001b[0m \u001b[0mmodel\u001b[0m\u001b[0;34m\u001b[0m\u001b[0;34m\u001b[0m\u001b[0m\n",
            "\u001b[0;32m/usr/local/lib/python3.7/dist-packages/gensim/models/keyedvectors.py\u001b[0m in \u001b[0;36mload_word2vec_format\u001b[0;34m(cls, fname, fvocab, binary, encoding, unicode_errors, limit, datatype)\u001b[0m\n\u001b[1;32m   1436\u001b[0m         return _load_word2vec_format(\n\u001b[1;32m   1437\u001b[0m             \u001b[0mcls\u001b[0m\u001b[0;34m,\u001b[0m \u001b[0mfname\u001b[0m\u001b[0;34m,\u001b[0m \u001b[0mfvocab\u001b[0m\u001b[0;34m=\u001b[0m\u001b[0mfvocab\u001b[0m\u001b[0;34m,\u001b[0m \u001b[0mbinary\u001b[0m\u001b[0;34m=\u001b[0m\u001b[0mbinary\u001b[0m\u001b[0;34m,\u001b[0m \u001b[0mencoding\u001b[0m\u001b[0;34m=\u001b[0m\u001b[0mencoding\u001b[0m\u001b[0;34m,\u001b[0m \u001b[0municode_errors\u001b[0m\u001b[0;34m=\u001b[0m\u001b[0municode_errors\u001b[0m\u001b[0;34m,\u001b[0m\u001b[0;34m\u001b[0m\u001b[0;34m\u001b[0m\u001b[0m\n\u001b[0;32m-> 1438\u001b[0;31m             limit=limit, datatype=datatype)\n\u001b[0m\u001b[1;32m   1439\u001b[0m \u001b[0;34m\u001b[0m\u001b[0m\n\u001b[1;32m   1440\u001b[0m     \u001b[0;32mdef\u001b[0m \u001b[0mget_keras_embedding\u001b[0m\u001b[0;34m(\u001b[0m\u001b[0mself\u001b[0m\u001b[0;34m,\u001b[0m \u001b[0mtrain_embeddings\u001b[0m\u001b[0;34m=\u001b[0m\u001b[0;32mFalse\u001b[0m\u001b[0;34m)\u001b[0m\u001b[0;34m:\u001b[0m\u001b[0;34m\u001b[0m\u001b[0;34m\u001b[0m\u001b[0m\n",
            "\u001b[0;32m/usr/local/lib/python3.7/dist-packages/gensim/models/utils_any2vec.py\u001b[0m in \u001b[0;36m_load_word2vec_format\u001b[0;34m(cls, fname, fvocab, binary, encoding, unicode_errors, limit, datatype)\u001b[0m\n\u001b[1;32m    210\u001b[0m                         \u001b[0mword\u001b[0m\u001b[0;34m.\u001b[0m\u001b[0mappend\u001b[0m\u001b[0;34m(\u001b[0m\u001b[0mch\u001b[0m\u001b[0;34m)\u001b[0m\u001b[0;34m\u001b[0m\u001b[0;34m\u001b[0m\u001b[0m\n\u001b[1;32m    211\u001b[0m                 \u001b[0mword\u001b[0m \u001b[0;34m=\u001b[0m \u001b[0mutils\u001b[0m\u001b[0;34m.\u001b[0m\u001b[0mto_unicode\u001b[0m\u001b[0;34m(\u001b[0m\u001b[0;34mb''\u001b[0m\u001b[0;34m.\u001b[0m\u001b[0mjoin\u001b[0m\u001b[0;34m(\u001b[0m\u001b[0mword\u001b[0m\u001b[0;34m)\u001b[0m\u001b[0;34m,\u001b[0m \u001b[0mencoding\u001b[0m\u001b[0;34m=\u001b[0m\u001b[0mencoding\u001b[0m\u001b[0;34m,\u001b[0m \u001b[0merrors\u001b[0m\u001b[0;34m=\u001b[0m\u001b[0municode_errors\u001b[0m\u001b[0;34m)\u001b[0m\u001b[0;34m\u001b[0m\u001b[0;34m\u001b[0m\u001b[0m\n\u001b[0;32m--> 212\u001b[0;31m                 \u001b[0mweights\u001b[0m \u001b[0;34m=\u001b[0m \u001b[0mfromstring\u001b[0m\u001b[0;34m(\u001b[0m\u001b[0mfin\u001b[0m\u001b[0;34m.\u001b[0m\u001b[0mread\u001b[0m\u001b[0;34m(\u001b[0m\u001b[0mbinary_len\u001b[0m\u001b[0;34m)\u001b[0m\u001b[0;34m,\u001b[0m \u001b[0mdtype\u001b[0m\u001b[0;34m=\u001b[0m\u001b[0mREAL\u001b[0m\u001b[0;34m)\u001b[0m\u001b[0;34m.\u001b[0m\u001b[0mastype\u001b[0m\u001b[0;34m(\u001b[0m\u001b[0mdatatype\u001b[0m\u001b[0;34m)\u001b[0m\u001b[0;34m\u001b[0m\u001b[0;34m\u001b[0m\u001b[0m\n\u001b[0m\u001b[1;32m    213\u001b[0m                 \u001b[0madd_word\u001b[0m\u001b[0;34m(\u001b[0m\u001b[0mword\u001b[0m\u001b[0;34m,\u001b[0m \u001b[0mweights\u001b[0m\u001b[0;34m)\u001b[0m\u001b[0;34m\u001b[0m\u001b[0;34m\u001b[0m\u001b[0m\n\u001b[1;32m    214\u001b[0m         \u001b[0;32melse\u001b[0m\u001b[0;34m:\u001b[0m\u001b[0;34m\u001b[0m\u001b[0;34m\u001b[0m\u001b[0m\n",
            "\u001b[0;32m/usr/lib/python3.7/gzip.py\u001b[0m in \u001b[0;36mread\u001b[0;34m(self, size)\u001b[0m\n\u001b[1;32m    285\u001b[0m             \u001b[0;32mimport\u001b[0m \u001b[0merrno\u001b[0m\u001b[0;34m\u001b[0m\u001b[0;34m\u001b[0m\u001b[0m\n\u001b[1;32m    286\u001b[0m             \u001b[0;32mraise\u001b[0m \u001b[0mOSError\u001b[0m\u001b[0;34m(\u001b[0m\u001b[0merrno\u001b[0m\u001b[0;34m.\u001b[0m\u001b[0mEBADF\u001b[0m\u001b[0;34m,\u001b[0m \u001b[0;34m\"read() on write-only GzipFile object\"\u001b[0m\u001b[0;34m)\u001b[0m\u001b[0;34m\u001b[0m\u001b[0;34m\u001b[0m\u001b[0m\n\u001b[0;32m--> 287\u001b[0;31m         \u001b[0;32mreturn\u001b[0m \u001b[0mself\u001b[0m\u001b[0;34m.\u001b[0m\u001b[0m_buffer\u001b[0m\u001b[0;34m.\u001b[0m\u001b[0mread\u001b[0m\u001b[0;34m(\u001b[0m\u001b[0msize\u001b[0m\u001b[0;34m)\u001b[0m\u001b[0;34m\u001b[0m\u001b[0;34m\u001b[0m\u001b[0m\n\u001b[0m\u001b[1;32m    288\u001b[0m \u001b[0;34m\u001b[0m\u001b[0m\n\u001b[1;32m    289\u001b[0m     \u001b[0;32mdef\u001b[0m \u001b[0mread1\u001b[0m\u001b[0;34m(\u001b[0m\u001b[0mself\u001b[0m\u001b[0;34m,\u001b[0m \u001b[0msize\u001b[0m\u001b[0;34m=\u001b[0m\u001b[0;34m-\u001b[0m\u001b[0;36m1\u001b[0m\u001b[0;34m)\u001b[0m\u001b[0;34m:\u001b[0m\u001b[0;34m\u001b[0m\u001b[0;34m\u001b[0m\u001b[0m\n",
            "\u001b[0;32m/usr/lib/python3.7/_compression.py\u001b[0m in \u001b[0;36mreadinto\u001b[0;34m(self, b)\u001b[0m\n\u001b[1;32m     66\u001b[0m     \u001b[0;32mdef\u001b[0m \u001b[0mreadinto\u001b[0m\u001b[0;34m(\u001b[0m\u001b[0mself\u001b[0m\u001b[0;34m,\u001b[0m \u001b[0mb\u001b[0m\u001b[0;34m)\u001b[0m\u001b[0;34m:\u001b[0m\u001b[0;34m\u001b[0m\u001b[0;34m\u001b[0m\u001b[0m\n\u001b[1;32m     67\u001b[0m         \u001b[0;32mwith\u001b[0m \u001b[0mmemoryview\u001b[0m\u001b[0;34m(\u001b[0m\u001b[0mb\u001b[0m\u001b[0;34m)\u001b[0m \u001b[0;32mas\u001b[0m \u001b[0mview\u001b[0m\u001b[0;34m,\u001b[0m \u001b[0mview\u001b[0m\u001b[0;34m.\u001b[0m\u001b[0mcast\u001b[0m\u001b[0;34m(\u001b[0m\u001b[0;34m\"B\"\u001b[0m\u001b[0;34m)\u001b[0m \u001b[0;32mas\u001b[0m \u001b[0mbyte_view\u001b[0m\u001b[0;34m:\u001b[0m\u001b[0;34m\u001b[0m\u001b[0;34m\u001b[0m\u001b[0m\n\u001b[0;32m---> 68\u001b[0;31m             \u001b[0mdata\u001b[0m \u001b[0;34m=\u001b[0m \u001b[0mself\u001b[0m\u001b[0;34m.\u001b[0m\u001b[0mread\u001b[0m\u001b[0;34m(\u001b[0m\u001b[0mlen\u001b[0m\u001b[0;34m(\u001b[0m\u001b[0mbyte_view\u001b[0m\u001b[0;34m)\u001b[0m\u001b[0;34m)\u001b[0m\u001b[0;34m\u001b[0m\u001b[0;34m\u001b[0m\u001b[0m\n\u001b[0m\u001b[1;32m     69\u001b[0m             \u001b[0mbyte_view\u001b[0m\u001b[0;34m[\u001b[0m\u001b[0;34m:\u001b[0m\u001b[0mlen\u001b[0m\u001b[0;34m(\u001b[0m\u001b[0mdata\u001b[0m\u001b[0;34m)\u001b[0m\u001b[0;34m]\u001b[0m \u001b[0;34m=\u001b[0m \u001b[0mdata\u001b[0m\u001b[0;34m\u001b[0m\u001b[0;34m\u001b[0m\u001b[0m\n\u001b[1;32m     70\u001b[0m         \u001b[0;32mreturn\u001b[0m \u001b[0mlen\u001b[0m\u001b[0;34m(\u001b[0m\u001b[0mdata\u001b[0m\u001b[0;34m)\u001b[0m\u001b[0;34m\u001b[0m\u001b[0;34m\u001b[0m\u001b[0m\n",
            "\u001b[0;32m/usr/lib/python3.7/gzip.py\u001b[0m in \u001b[0;36mread\u001b[0;34m(self, size)\u001b[0m\n\u001b[1;32m    494\u001b[0m                                \"end-of-stream marker was reached\")\n\u001b[1;32m    495\u001b[0m \u001b[0;34m\u001b[0m\u001b[0m\n\u001b[0;32m--> 496\u001b[0;31m         \u001b[0mself\u001b[0m\u001b[0;34m.\u001b[0m\u001b[0m_add_read_data\u001b[0m\u001b[0;34m(\u001b[0m \u001b[0muncompress\u001b[0m \u001b[0;34m)\u001b[0m\u001b[0;34m\u001b[0m\u001b[0;34m\u001b[0m\u001b[0m\n\u001b[0m\u001b[1;32m    497\u001b[0m         \u001b[0mself\u001b[0m\u001b[0;34m.\u001b[0m\u001b[0m_pos\u001b[0m \u001b[0;34m+=\u001b[0m \u001b[0mlen\u001b[0m\u001b[0;34m(\u001b[0m\u001b[0muncompress\u001b[0m\u001b[0;34m)\u001b[0m\u001b[0;34m\u001b[0m\u001b[0;34m\u001b[0m\u001b[0m\n\u001b[1;32m    498\u001b[0m         \u001b[0;32mreturn\u001b[0m \u001b[0muncompress\u001b[0m\u001b[0;34m\u001b[0m\u001b[0;34m\u001b[0m\u001b[0m\n",
            "\u001b[0;32m/usr/lib/python3.7/gzip.py\u001b[0m in \u001b[0;36m_add_read_data\u001b[0;34m(self, data)\u001b[0m\n\u001b[1;32m    499\u001b[0m \u001b[0;34m\u001b[0m\u001b[0m\n\u001b[1;32m    500\u001b[0m     \u001b[0;32mdef\u001b[0m \u001b[0m_add_read_data\u001b[0m\u001b[0;34m(\u001b[0m\u001b[0mself\u001b[0m\u001b[0;34m,\u001b[0m \u001b[0mdata\u001b[0m\u001b[0;34m)\u001b[0m\u001b[0;34m:\u001b[0m\u001b[0;34m\u001b[0m\u001b[0;34m\u001b[0m\u001b[0m\n\u001b[0;32m--> 501\u001b[0;31m         \u001b[0mself\u001b[0m\u001b[0;34m.\u001b[0m\u001b[0m_crc\u001b[0m \u001b[0;34m=\u001b[0m \u001b[0mzlib\u001b[0m\u001b[0;34m.\u001b[0m\u001b[0mcrc32\u001b[0m\u001b[0;34m(\u001b[0m\u001b[0mdata\u001b[0m\u001b[0;34m,\u001b[0m \u001b[0mself\u001b[0m\u001b[0;34m.\u001b[0m\u001b[0m_crc\u001b[0m\u001b[0;34m)\u001b[0m\u001b[0;34m\u001b[0m\u001b[0;34m\u001b[0m\u001b[0m\n\u001b[0m\u001b[1;32m    502\u001b[0m         \u001b[0mself\u001b[0m\u001b[0;34m.\u001b[0m\u001b[0m_stream_size\u001b[0m \u001b[0;34m=\u001b[0m \u001b[0mself\u001b[0m\u001b[0;34m.\u001b[0m\u001b[0m_stream_size\u001b[0m \u001b[0;34m+\u001b[0m \u001b[0mlen\u001b[0m\u001b[0;34m(\u001b[0m\u001b[0mdata\u001b[0m\u001b[0;34m)\u001b[0m\u001b[0;34m\u001b[0m\u001b[0;34m\u001b[0m\u001b[0m\n\u001b[1;32m    503\u001b[0m \u001b[0;34m\u001b[0m\u001b[0m\n",
            "\u001b[0;31mKeyboardInterrupt\u001b[0m: "
          ]
        }
      ]
    },
    {
      "cell_type": "code",
      "metadata": {
        "id": "AcZB7KKIqTAw"
      },
      "source": [
        "for w,p in w2v.most_similar('neural'):\n",
        "    print(f\"{w} -> {p}\")"
      ],
      "execution_count": null,
      "outputs": []
    },
    {
      "cell_type": "code",
      "metadata": {
        "id": "6SaP_a33sbz7"
      },
      "source": [
        "w2v.most_similar(positive=['king','woman'],negative=['man'])[0]"
      ],
      "execution_count": null,
      "outputs": []
    },
    {
      "cell_type": "code",
      "metadata": {
        "id": "gpomhCmt6kP8"
      },
      "source": [
        "# vocab.get_itos()"
      ],
      "execution_count": null,
      "outputs": []
    },
    {
      "cell_type": "code",
      "metadata": {
        "id": "C4y5gk44xPvL"
      },
      "source": [
        "embed_size = len(w2v.get_vector('hello'))\n",
        "print(f'Embedding size: {embed_size}')\n",
        "\n",
        "net = EmbedClassifier(vocab_size,embed_size,len(classes))\n",
        "\n",
        "print('Populating matrix, this will take some time...',end='')\n",
        "found, not_found = 0,0\n",
        "for i,w in enumerate(vocab.get_itos()):\n",
        "    try:\n",
        "        net.embedding.weight[i].data = torch.tensor(w2v[w])\n",
        "        found+=1\n",
        "    except:\n",
        "        net.embedding.weight[i].data = torch.normal(0.0,1.0,(embed_size,))\n",
        "        not_found+=1\n",
        "\n",
        "print(f\"Done, found {found} words, {not_found} words missing\")\n",
        "net = net.to(device)"
      ],
      "execution_count": null,
      "outputs": []
    },
    {
      "cell_type": "code",
      "metadata": {
        "id": "FssOdPrm1JyC"
      },
      "source": [
        "train_epoch_emb(net,train_loader, lr=4, epoch_size=25000)"
      ],
      "execution_count": null,
      "outputs": []
    },
    {
      "cell_type": "code",
      "metadata": {
        "id": "5NCR76ZGSxUB"
      },
      "source": [
        ""
      ],
      "execution_count": null,
      "outputs": []
    },
    {
      "cell_type": "code",
      "metadata": {
        "colab": {
          "base_uri": "https://localhost:8080/"
        },
        "id": "wZROl5o9FXl_",
        "outputId": "3ad77bae-640a-4b29-9c89-87b21ae6df69"
      },
      "source": [
        "vocab = torchtext.vocab.GloVe(name='6B', dim=50)\n",
        "# vocab = torchtext.vocab.FastText(language='en')"
      ],
      "execution_count": 28,
      "outputs": [
        {
          "output_type": "stream",
          "text": [
            "\n",
            ".vector_cache/glove.6B.zip: 0.00B [00:00, ?B/s]\u001b[A\n",
            ".vector_cache/glove.6B.zip:   0%|          | 8.19k/862M [00:01<37:39:07, 6.36kB/s]\u001b[A\n",
            ".vector_cache/glove.6B.zip:   0%|          | 16.4k/862M [00:01<27:40:59, 8.65kB/s]\u001b[A\n",
            ".vector_cache/glove.6B.zip:   0%|          | 49.2k/862M [00:01<19:42:35, 12.2kB/s]\u001b[A\n",
            ".vector_cache/glove.6B.zip:   0%|          | 98.3k/862M [00:01<14:01:04, 17.1kB/s]\u001b[A\n",
            ".vector_cache/glove.6B.zip:   0%|          | 205k/862M [00:01<9:54:48, 24.2kB/s]  \u001b[A\n",
            ".vector_cache/glove.6B.zip:   0%|          | 426k/862M [00:02<6:59:12, 34.3kB/s]\u001b[A\n",
            ".vector_cache/glove.6B.zip:   0%|          | 860k/862M [00:02<4:54:48, 48.7kB/s]\u001b[A\n",
            ".vector_cache/glove.6B.zip:   0%|          | 1.73M/862M [00:02<3:26:54, 69.3kB/s]\u001b[A\n",
            ".vector_cache/glove.6B.zip:   0%|          | 3.47M/862M [00:02<2:24:55, 98.8kB/s]\u001b[A\n",
            ".vector_cache/glove.6B.zip:   1%|          | 6.34M/862M [00:02<1:41:20, 141kB/s] \u001b[A\n",
            ".vector_cache/glove.6B.zip:   1%|          | 9.27M/862M [00:02<1:10:55, 200kB/s]\u001b[A\n",
            ".vector_cache/glove.6B.zip:   1%|▏         | 12.3M/862M [00:02<49:41, 285kB/s]  \u001b[A\n",
            ".vector_cache/glove.6B.zip:   2%|▏         | 15.3M/862M [00:03<34:52, 405kB/s]\u001b[A\n",
            ".vector_cache/glove.6B.zip:   2%|▏         | 18.2M/862M [00:03<24:33, 573kB/s]\u001b[A\n",
            ".vector_cache/glove.6B.zip:   2%|▏         | 21.3M/862M [00:03<17:20, 808kB/s]\u001b[A\n",
            ".vector_cache/glove.6B.zip:   3%|▎         | 24.4M/862M [00:03<12:18, 1.13MB/s]\u001b[A\n",
            ".vector_cache/glove.6B.zip:   3%|▎         | 27.3M/862M [00:03<08:54, 1.56MB/s]\u001b[A\n",
            ".vector_cache/glove.6B.zip:   4%|▎         | 30.5M/862M [00:03<06:25, 2.16MB/s]\u001b[A\n",
            ".vector_cache/glove.6B.zip:   4%|▎         | 31.5M/862M [00:04<07:04, 1.96MB/s]\u001b[A\n",
            ".vector_cache/glove.6B.zip:   4%|▍         | 34.6M/862M [00:04<05:08, 2.68MB/s]\u001b[A\n",
            ".vector_cache/glove.6B.zip:   4%|▍         | 35.7M/862M [00:05<06:10, 2.23MB/s]\u001b[A\n",
            ".vector_cache/glove.6B.zip:   4%|▍         | 38.8M/862M [00:05<04:30, 3.05MB/s]\u001b[A\n",
            ".vector_cache/glove.6B.zip:   5%|▍         | 39.8M/862M [00:06<05:41, 2.41MB/s]\u001b[A\n",
            ".vector_cache/glove.6B.zip:   5%|▍         | 43.0M/862M [00:06<04:10, 3.27MB/s]\u001b[A\n",
            ".vector_cache/glove.6B.zip:   5%|▌         | 44.0M/862M [00:07<05:28, 2.49MB/s]\u001b[A\n",
            ".vector_cache/glove.6B.zip:   5%|▌         | 47.1M/862M [00:07<04:01, 3.38MB/s]\u001b[A\n",
            ".vector_cache/glove.6B.zip:   6%|▌         | 48.2M/862M [00:07<05:20, 2.54MB/s]\u001b[A\n",
            ".vector_cache/glove.6B.zip:   6%|▌         | 51.3M/862M [00:07<03:55, 3.44MB/s]\u001b[A\n",
            ".vector_cache/glove.6B.zip:   6%|▌         | 52.3M/862M [00:08<05:16, 2.56MB/s]\u001b[A\n",
            ".vector_cache/glove.6B.zip:   6%|▋         | 55.5M/862M [00:08<03:52, 3.47MB/s]\u001b[A\n",
            ".vector_cache/glove.6B.zip:   7%|▋         | 56.5M/862M [00:09<05:11, 2.58MB/s]\u001b[A\n",
            ".vector_cache/glove.6B.zip:   7%|▋         | 59.6M/862M [00:09<03:49, 3.50MB/s]\u001b[A\n",
            ".vector_cache/glove.6B.zip:   7%|▋         | 60.7M/862M [00:10<05:11, 2.57MB/s]\u001b[A\n",
            ".vector_cache/glove.6B.zip:   7%|▋         | 63.8M/862M [00:10<03:48, 3.49MB/s]\u001b[A\n",
            ".vector_cache/glove.6B.zip:   8%|▊         | 64.8M/862M [00:10<05:09, 2.58MB/s]\u001b[A\n",
            ".vector_cache/glove.6B.zip:   8%|▊         | 68.0M/862M [00:11<03:47, 3.49MB/s]\u001b[A\n",
            ".vector_cache/glove.6B.zip:   8%|▊         | 69.0M/862M [00:11<05:07, 2.58MB/s]\u001b[A\n",
            ".vector_cache/glove.6B.zip:   8%|▊         | 72.1M/862M [00:11<03:46, 3.49MB/s]\u001b[A\n",
            ".vector_cache/glove.6B.zip:   8%|▊         | 73.2M/862M [00:12<05:05, 2.59MB/s]\u001b[A\n",
            ".vector_cache/glove.6B.zip:   9%|▉         | 76.3M/862M [00:12<03:44, 3.50MB/s]\u001b[A\n",
            ".vector_cache/glove.6B.zip:   9%|▉         | 77.3M/862M [00:13<05:04, 2.57MB/s]\u001b[A\n",
            ".vector_cache/glove.6B.zip:   9%|▉         | 80.5M/862M [00:13<03:44, 3.49MB/s]\u001b[A\n",
            ".vector_cache/glove.6B.zip:   9%|▉         | 81.5M/862M [00:14<05:02, 2.58MB/s]\u001b[A\n",
            ".vector_cache/glove.6B.zip:  10%|▉         | 84.6M/862M [00:14<03:42, 3.49MB/s]\u001b[A\n",
            ".vector_cache/glove.6B.zip:  10%|▉         | 85.7M/862M [00:14<05:00, 2.58MB/s]\u001b[A\n",
            ".vector_cache/glove.6B.zip:  10%|█         | 88.8M/862M [00:15<03:41, 3.50MB/s]\u001b[A\n",
            ".vector_cache/glove.6B.zip:  10%|█         | 89.8M/862M [00:15<04:59, 2.58MB/s]\u001b[A\n",
            ".vector_cache/glove.6B.zip:  11%|█         | 93.0M/862M [00:15<03:40, 3.49MB/s]\u001b[A\n",
            ".vector_cache/glove.6B.zip:  11%|█         | 94.0M/862M [00:16<04:57, 2.58MB/s]\u001b[A\n",
            ".vector_cache/glove.6B.zip:  11%|█▏        | 97.1M/862M [00:16<03:39, 3.49MB/s]\u001b[A\n",
            ".vector_cache/glove.6B.zip:  11%|█▏        | 98.2M/862M [00:17<04:55, 2.59MB/s]\u001b[A\n",
            ".vector_cache/glove.6B.zip:  12%|█▏        | 101M/862M [00:17<03:36, 3.51MB/s] \u001b[A\n",
            ".vector_cache/glove.6B.zip:  12%|█▏        | 102M/862M [00:18<04:54, 2.58MB/s]\u001b[A\n",
            ".vector_cache/glove.6B.zip:  12%|█▏        | 105M/862M [00:18<03:36, 3.50MB/s]\u001b[A\n",
            ".vector_cache/glove.6B.zip:  12%|█▏        | 107M/862M [00:18<04:52, 2.58MB/s]\u001b[A\n",
            ".vector_cache/glove.6B.zip:  13%|█▎        | 110M/862M [00:19<03:34, 3.50MB/s]\u001b[A\n",
            ".vector_cache/glove.6B.zip:  13%|█▎        | 111M/862M [00:19<04:50, 2.59MB/s]\u001b[A\n",
            ".vector_cache/glove.6B.zip:  13%|█▎        | 114M/862M [00:19<03:33, 3.50MB/s]\u001b[A\n",
            ".vector_cache/glove.6B.zip:  13%|█▎        | 115M/862M [00:20<04:48, 2.59MB/s]\u001b[A\n",
            ".vector_cache/glove.6B.zip:  14%|█▎        | 118M/862M [00:20<03:31, 3.51MB/s]\u001b[A\n",
            ".vector_cache/glove.6B.zip:  14%|█▍        | 119M/862M [00:21<04:47, 2.59MB/s]\u001b[A\n",
            ".vector_cache/glove.6B.zip:  14%|█▍        | 122M/862M [00:21<03:31, 3.50MB/s]\u001b[A\n",
            ".vector_cache/glove.6B.zip:  14%|█▍        | 123M/862M [00:22<04:45, 2.59MB/s]\u001b[A\n",
            ".vector_cache/glove.6B.zip:  15%|█▍        | 126M/862M [00:22<03:30, 3.50MB/s]\u001b[A\n",
            ".vector_cache/glove.6B.zip:  15%|█▍        | 127M/862M [00:22<04:44, 2.58MB/s]\u001b[A\n",
            ".vector_cache/glove.6B.zip:  15%|█▌        | 130M/862M [00:23<03:29, 3.50MB/s]\u001b[A\n",
            ".vector_cache/glove.6B.zip:  15%|█▌        | 132M/862M [00:23<04:42, 2.59MB/s]\u001b[A\n",
            ".vector_cache/glove.6B.zip:  16%|█▌        | 135M/862M [00:23<03:27, 3.51MB/s]\u001b[A\n",
            ".vector_cache/glove.6B.zip:  16%|█▌        | 136M/862M [00:24<04:42, 2.57MB/s]\u001b[A\n",
            ".vector_cache/glove.6B.zip:  16%|█▌        | 139M/862M [00:24<03:27, 3.49MB/s]\u001b[A\n",
            ".vector_cache/glove.6B.zip:  16%|█▌        | 140M/862M [00:25<04:39, 2.58MB/s]\u001b[A\n",
            ".vector_cache/glove.6B.zip:  17%|█▋        | 143M/862M [00:25<03:25, 3.50MB/s]\u001b[A\n",
            ".vector_cache/glove.6B.zip:  17%|█▋        | 144M/862M [00:26<04:38, 2.58MB/s]\u001b[A\n",
            ".vector_cache/glove.6B.zip:  17%|█▋        | 147M/862M [00:26<03:24, 3.49MB/s]\u001b[A\n",
            ".vector_cache/glove.6B.zip:  17%|█▋        | 148M/862M [00:26<04:37, 2.58MB/s]\u001b[A\n",
            ".vector_cache/glove.6B.zip:  18%|█▊        | 151M/862M [00:27<03:23, 3.49MB/s]\u001b[A\n",
            ".vector_cache/glove.6B.zip:  18%|█▊        | 152M/862M [00:27<04:36, 2.57MB/s]\u001b[A\n",
            ".vector_cache/glove.6B.zip:  18%|█▊        | 156M/862M [00:27<03:23, 3.47MB/s]\u001b[A\n",
            ".vector_cache/glove.6B.zip:  18%|█▊        | 157M/862M [00:28<04:33, 2.58MB/s]\u001b[A\n",
            ".vector_cache/glove.6B.zip:  19%|█▊        | 160M/862M [00:28<03:20, 3.50MB/s]\u001b[A\n",
            ".vector_cache/glove.6B.zip:  19%|█▊        | 161M/862M [00:29<04:32, 2.58MB/s]\u001b[A\n",
            ".vector_cache/glove.6B.zip:  19%|█▉        | 164M/862M [00:29<03:20, 3.49MB/s]\u001b[A\n",
            ".vector_cache/glove.6B.zip:  19%|█▉        | 165M/862M [00:30<04:29, 2.58MB/s]\u001b[A\n",
            ".vector_cache/glove.6B.zip:  19%|█▉        | 168M/862M [00:30<03:18, 3.50MB/s]\u001b[A\n",
            ".vector_cache/glove.6B.zip:  20%|█▉        | 169M/862M [00:30<04:29, 2.57MB/s]\u001b[A\n",
            ".vector_cache/glove.6B.zip:  20%|█▉        | 172M/862M [00:31<03:17, 3.49MB/s]\u001b[A\n",
            ".vector_cache/glove.6B.zip:  20%|██        | 173M/862M [00:31<04:28, 2.57MB/s]\u001b[A\n",
            ".vector_cache/glove.6B.zip:  20%|██        | 176M/862M [00:31<03:17, 3.48MB/s]\u001b[A\n",
            ".vector_cache/glove.6B.zip:  21%|██        | 177M/862M [00:32<04:25, 2.58MB/s]\u001b[A\n",
            ".vector_cache/glove.6B.zip:  21%|██        | 181M/862M [00:32<03:15, 3.49MB/s]\u001b[A\n",
            ".vector_cache/glove.6B.zip:  21%|██        | 182M/862M [00:33<04:23, 2.58MB/s]\u001b[A\n",
            ".vector_cache/glove.6B.zip:  21%|██▏       | 185M/862M [00:33<03:13, 3.49MB/s]\u001b[A\n",
            ".vector_cache/glove.6B.zip:  22%|██▏       | 186M/862M [00:34<04:22, 2.58MB/s]\u001b[A\n",
            ".vector_cache/glove.6B.zip:  22%|██▏       | 189M/862M [00:34<03:12, 3.49MB/s]\u001b[A\n",
            ".vector_cache/glove.6B.zip:  22%|██▏       | 190M/862M [00:34<04:19, 2.59MB/s]\u001b[A\n",
            ".vector_cache/glove.6B.zip:  22%|██▏       | 193M/862M [00:34<03:11, 3.50MB/s]\u001b[A\n",
            ".vector_cache/glove.6B.zip:  23%|██▎       | 194M/862M [00:35<04:18, 2.58MB/s]\u001b[A\n",
            ".vector_cache/glove.6B.zip:  23%|██▎       | 197M/862M [00:35<03:10, 3.50MB/s]\u001b[A\n",
            ".vector_cache/glove.6B.zip:  23%|██▎       | 198M/862M [00:36<04:17, 2.58MB/s]\u001b[A\n",
            ".vector_cache/glove.6B.zip:  23%|██▎       | 201M/862M [00:36<03:09, 3.50MB/s]\u001b[A\n",
            ".vector_cache/glove.6B.zip:  23%|██▎       | 202M/862M [00:37<04:15, 2.58MB/s]\u001b[A\n",
            ".vector_cache/glove.6B.zip:  24%|██▍       | 206M/862M [00:37<03:07, 3.50MB/s]\u001b[A\n",
            ".vector_cache/glove.6B.zip:  24%|██▍       | 207M/862M [00:38<04:13, 2.59MB/s]\u001b[A\n",
            ".vector_cache/glove.6B.zip:  24%|██▍       | 210M/862M [00:38<03:05, 3.51MB/s]\u001b[A\n",
            ".vector_cache/glove.6B.zip:  24%|██▍       | 211M/862M [00:38<04:12, 2.58MB/s]\u001b[A\n",
            ".vector_cache/glove.6B.zip:  25%|██▍       | 214M/862M [00:38<03:05, 3.49MB/s]\u001b[A\n",
            ".vector_cache/glove.6B.zip:  25%|██▍       | 215M/862M [00:39<04:11, 2.58MB/s]\u001b[A\n",
            ".vector_cache/glove.6B.zip:  25%|██▌       | 217M/862M [00:39<03:06, 3.46MB/s]\u001b[A\n",
            ".vector_cache/glove.6B.zip:  25%|██▌       | 219M/862M [00:40<03:27, 3.10MB/s]\u001b[A\n",
            ".vector_cache/glove.6B.zip:  26%|██▌       | 222M/862M [00:40<02:33, 4.16MB/s]\u001b[A\n",
            ".vector_cache/glove.6B.zip:  26%|██▌       | 223M/862M [00:41<03:44, 2.85MB/s]\u001b[A\n",
            ".vector_cache/glove.6B.zip:  26%|██▋       | 226M/862M [00:41<02:45, 3.84MB/s]\u001b[A\n",
            ".vector_cache/glove.6B.zip:  26%|██▋       | 227M/862M [00:41<03:52, 2.73MB/s]\u001b[A\n",
            ".vector_cache/glove.6B.zip:  27%|██▋       | 230M/862M [00:42<02:51, 3.68MB/s]\u001b[A\n",
            ".vector_cache/glove.6B.zip:  27%|██▋       | 232M/862M [00:42<03:55, 2.67MB/s]\u001b[A\n",
            ".vector_cache/glove.6B.zip:  27%|██▋       | 235M/862M [00:42<02:53, 3.61MB/s]\u001b[A\n",
            ".vector_cache/glove.6B.zip:  27%|██▋       | 236M/862M [00:43<03:44, 2.80MB/s]\u001b[A\n",
            ".vector_cache/glove.6B.zip:  28%|██▊       | 239M/862M [00:43<02:45, 3.77MB/s]\u001b[A\n",
            ".vector_cache/glove.6B.zip:  28%|██▊       | 240M/862M [00:44<03:50, 2.70MB/s]\u001b[A\n",
            ".vector_cache/glove.6B.zip:  28%|██▊       | 243M/862M [00:44<02:49, 3.66MB/s]\u001b[A\n",
            ".vector_cache/glove.6B.zip:  28%|██▊       | 244M/862M [00:45<03:53, 2.65MB/s]\u001b[A\n",
            ".vector_cache/glove.6B.zip:  29%|██▊       | 247M/862M [00:45<02:51, 3.59MB/s]\u001b[A\n",
            ".vector_cache/glove.6B.zip:  29%|██▉       | 248M/862M [00:45<03:52, 2.64MB/s]\u001b[A\n",
            ".vector_cache/glove.6B.zip:  29%|██▉       | 251M/862M [00:46<02:51, 3.56MB/s]\u001b[A\n",
            ".vector_cache/glove.6B.zip:  29%|██▉       | 252M/862M [00:46<03:52, 2.63MB/s]\u001b[A\n",
            ".vector_cache/glove.6B.zip:  30%|██▉       | 256M/862M [00:46<02:50, 3.56MB/s]\u001b[A\n",
            ".vector_cache/glove.6B.zip:  30%|██▉       | 257M/862M [00:47<03:51, 2.62MB/s]\u001b[A\n",
            ".vector_cache/glove.6B.zip:  30%|███       | 260M/862M [00:47<02:50, 3.54MB/s]\u001b[A\n",
            ".vector_cache/glove.6B.zip:  30%|███       | 261M/862M [00:48<03:49, 2.62MB/s]\u001b[A\n",
            ".vector_cache/glove.6B.zip:  31%|███       | 264M/862M [00:48<02:48, 3.55MB/s]\u001b[A\n",
            ".vector_cache/glove.6B.zip:  31%|███       | 265M/862M [00:49<03:47, 2.62MB/s]\u001b[A\n",
            ".vector_cache/glove.6B.zip:  31%|███       | 268M/862M [00:49<02:47, 3.55MB/s]\u001b[A\n",
            ".vector_cache/glove.6B.zip:  31%|███       | 269M/862M [00:49<03:47, 2.61MB/s]\u001b[A\n",
            ".vector_cache/glove.6B.zip:  32%|███▏      | 272M/862M [00:50<02:47, 3.53MB/s]\u001b[A\n",
            ".vector_cache/glove.6B.zip:  32%|███▏      | 273M/862M [00:50<03:46, 2.60MB/s]\u001b[A\n",
            ".vector_cache/glove.6B.zip:  32%|███▏      | 276M/862M [00:50<02:46, 3.52MB/s]\u001b[A\n",
            ".vector_cache/glove.6B.zip:  32%|███▏      | 277M/862M [00:51<03:44, 2.60MB/s]\u001b[A\n",
            ".vector_cache/glove.6B.zip:  33%|███▎      | 281M/862M [00:51<02:44, 3.53MB/s]\u001b[A\n",
            ".vector_cache/glove.6B.zip:  33%|███▎      | 282M/862M [00:52<03:43, 2.60MB/s]\u001b[A\n",
            ".vector_cache/glove.6B.zip:  33%|███▎      | 285M/862M [00:52<02:44, 3.52MB/s]\u001b[A\n",
            ".vector_cache/glove.6B.zip:  33%|███▎      | 286M/862M [00:53<03:43, 2.58MB/s]\u001b[A\n",
            ".vector_cache/glove.6B.zip:  34%|███▎      | 289M/862M [00:53<02:43, 3.50MB/s]\u001b[A\n",
            ".vector_cache/glove.6B.zip:  34%|███▎      | 290M/862M [00:53<03:41, 2.58MB/s]\u001b[A\n",
            ".vector_cache/glove.6B.zip:  34%|███▍      | 293M/862M [00:54<02:42, 3.50MB/s]\u001b[A\n",
            ".vector_cache/glove.6B.zip:  34%|███▍      | 294M/862M [00:54<03:35, 2.63MB/s]\u001b[A\n",
            ".vector_cache/glove.6B.zip:  34%|███▍      | 297M/862M [00:54<02:38, 3.56MB/s]\u001b[A\n",
            ".vector_cache/glove.6B.zip:  35%|███▍      | 298M/862M [00:55<03:36, 2.61MB/s]\u001b[A\n",
            ".vector_cache/glove.6B.zip:  35%|███▍      | 301M/862M [00:55<02:39, 3.53MB/s]\u001b[A\n",
            ".vector_cache/glove.6B.zip:  35%|███▌      | 302M/862M [00:56<03:36, 2.59MB/s]\u001b[A\n",
            ".vector_cache/glove.6B.zip:  35%|███▌      | 306M/862M [00:56<02:38, 3.51MB/s]\u001b[A\n",
            ".vector_cache/glove.6B.zip:  36%|███▌      | 307M/862M [00:57<03:34, 2.59MB/s]\u001b[A\n",
            ".vector_cache/glove.6B.zip:  36%|███▌      | 310M/862M [00:57<02:37, 3.50MB/s]\u001b[A\n",
            ".vector_cache/glove.6B.zip:  36%|███▌      | 311M/862M [00:57<03:33, 2.58MB/s]\u001b[A\n",
            ".vector_cache/glove.6B.zip:  36%|███▋      | 314M/862M [00:58<02:36, 3.49MB/s]\u001b[A\n",
            ".vector_cache/glove.6B.zip:  37%|███▋      | 315M/862M [00:58<03:32, 2.58MB/s]\u001b[A\n",
            ".vector_cache/glove.6B.zip:  37%|███▋      | 318M/862M [00:58<02:35, 3.50MB/s]\u001b[A\n",
            ".vector_cache/glove.6B.zip:  37%|███▋      | 319M/862M [00:59<03:27, 2.62MB/s]\u001b[A\n",
            ".vector_cache/glove.6B.zip:  37%|███▋      | 322M/862M [00:59<02:32, 3.54MB/s]\u001b[A\n",
            ".vector_cache/glove.6B.zip:  37%|███▋      | 323M/862M [01:00<03:25, 2.62MB/s]\u001b[A\n",
            ".vector_cache/glove.6B.zip:  38%|███▊      | 326M/862M [01:00<02:30, 3.55MB/s]\u001b[A\n",
            ".vector_cache/glove.6B.zip:  38%|███▊      | 327M/862M [01:01<03:23, 2.62MB/s]\u001b[A\n",
            ".vector_cache/glove.6B.zip:  38%|███▊      | 331M/862M [01:01<02:29, 3.55MB/s]\u001b[A\n",
            ".vector_cache/glove.6B.zip:  38%|███▊      | 332M/862M [01:01<03:22, 2.62MB/s]\u001b[A\n",
            ".vector_cache/glove.6B.zip:  39%|███▉      | 335M/862M [01:02<02:28, 3.55MB/s]\u001b[A\n",
            ".vector_cache/glove.6B.zip:  39%|███▉      | 336M/862M [01:02<03:21, 2.61MB/s]\u001b[A\n",
            ".vector_cache/glove.6B.zip:  39%|███▉      | 339M/862M [01:02<02:27, 3.54MB/s]\u001b[A\n",
            ".vector_cache/glove.6B.zip:  39%|███▉      | 340M/862M [01:03<03:18, 2.63MB/s]\u001b[A\n",
            ".vector_cache/glove.6B.zip:  40%|███▉      | 343M/862M [01:03<02:25, 3.56MB/s]\u001b[A\n",
            ".vector_cache/glove.6B.zip:  40%|███▉      | 344M/862M [01:04<03:17, 2.62MB/s]\u001b[A\n",
            ".vector_cache/glove.6B.zip:  40%|████      | 347M/862M [01:04<02:25, 3.55MB/s]\u001b[A\n",
            ".vector_cache/glove.6B.zip:  40%|████      | 348M/862M [01:05<03:16, 2.61MB/s]\u001b[A\n",
            ".vector_cache/glove.6B.zip:  41%|████      | 351M/862M [01:05<02:24, 3.54MB/s]\u001b[A\n",
            ".vector_cache/glove.6B.zip:  41%|████      | 352M/862M [01:05<03:14, 2.62MB/s]\u001b[A\n",
            ".vector_cache/glove.6B.zip:  41%|████      | 356M/862M [01:05<02:23, 3.54MB/s]\u001b[A\n",
            ".vector_cache/glove.6B.zip:  41%|████▏     | 357M/862M [01:06<03:13, 2.62MB/s]\u001b[A\n",
            ".vector_cache/glove.6B.zip:  42%|████▏     | 359M/862M [01:06<02:24, 3.49MB/s]\u001b[A\n",
            ".vector_cache/glove.6B.zip:  42%|████▏     | 361M/862M [01:07<02:36, 3.20MB/s]\u001b[A\n",
            ".vector_cache/glove.6B.zip:  42%|████▏     | 364M/862M [01:07<01:56, 4.28MB/s]\u001b[A\n",
            ".vector_cache/glove.6B.zip:  42%|████▏     | 365M/862M [01:08<02:42, 3.07MB/s]\u001b[A\n",
            ".vector_cache/glove.6B.zip:  43%|████▎     | 368M/862M [01:08<02:00, 4.11MB/s]\u001b[A\n",
            ".vector_cache/glove.6B.zip:  43%|████▎     | 369M/862M [01:09<02:44, 3.00MB/s]\u001b[A\n",
            ".vector_cache/glove.6B.zip:  43%|████▎     | 372M/862M [01:09<02:01, 4.03MB/s]\u001b[A\n",
            ".vector_cache/glove.6B.zip:  43%|████▎     | 373M/862M [01:09<02:48, 2.90MB/s]\u001b[A\n",
            ".vector_cache/glove.6B.zip:  44%|████▎     | 376M/862M [01:09<02:04, 3.91MB/s]\u001b[A\n",
            ".vector_cache/glove.6B.zip:  44%|████▍     | 377M/862M [01:10<02:50, 2.84MB/s]\u001b[A\n",
            ".vector_cache/glove.6B.zip:  44%|████▍     | 381M/862M [01:10<02:05, 3.83MB/s]\u001b[A\n",
            ".vector_cache/glove.6B.zip:  44%|████▍     | 382M/862M [01:11<02:52, 2.78MB/s]\u001b[A\n",
            ".vector_cache/glove.6B.zip:  45%|████▍     | 385M/862M [01:11<02:07, 3.75MB/s]\u001b[A\n",
            ".vector_cache/glove.6B.zip:  45%|████▍     | 386M/862M [01:12<02:54, 2.73MB/s]\u001b[A\n",
            ".vector_cache/glove.6B.zip:  45%|████▌     | 389M/862M [01:12<02:08, 3.69MB/s]\u001b[A\n",
            ".vector_cache/glove.6B.zip:  45%|████▌     | 390M/862M [01:12<02:56, 2.67MB/s]\u001b[A\n",
            ".vector_cache/glove.6B.zip:  46%|████▌     | 393M/862M [01:13<02:09, 3.62MB/s]\u001b[A\n",
            ".vector_cache/glove.6B.zip:  46%|████▌     | 394M/862M [01:13<02:57, 2.64MB/s]\u001b[A\n",
            ".vector_cache/glove.6B.zip:  46%|████▌     | 397M/862M [01:13<02:10, 3.57MB/s]\u001b[A\n",
            ".vector_cache/glove.6B.zip:  46%|████▌     | 398M/862M [01:14<02:56, 2.63MB/s]\u001b[A\n",
            ".vector_cache/glove.6B.zip:  47%|████▋     | 401M/862M [01:14<02:09, 3.56MB/s]\u001b[A\n",
            ".vector_cache/glove.6B.zip:  47%|████▋     | 402M/862M [01:15<02:55, 2.63MB/s]\u001b[A\n",
            ".vector_cache/glove.6B.zip:  47%|████▋     | 406M/862M [01:15<02:08, 3.55MB/s]\u001b[A\n",
            ".vector_cache/glove.6B.zip:  47%|████▋     | 407M/862M [01:16<02:53, 2.62MB/s]\u001b[A\n",
            ".vector_cache/glove.6B.zip:  48%|████▊     | 410M/862M [01:16<02:07, 3.54MB/s]\u001b[A\n",
            ".vector_cache/glove.6B.zip:  48%|████▊     | 411M/862M [01:16<02:52, 2.62MB/s]\u001b[A\n",
            ".vector_cache/glove.6B.zip:  48%|████▊     | 414M/862M [01:17<02:06, 3.55MB/s]\u001b[A\n",
            ".vector_cache/glove.6B.zip:  48%|████▊     | 415M/862M [01:17<02:50, 2.62MB/s]\u001b[A\n",
            ".vector_cache/glove.6B.zip:  48%|████▊     | 418M/862M [01:17<02:05, 3.55MB/s]\u001b[A\n",
            ".vector_cache/glove.6B.zip:  49%|████▊     | 419M/862M [01:18<02:49, 2.61MB/s]\u001b[A\n",
            ".vector_cache/glove.6B.zip:  49%|████▉     | 422M/862M [01:18<02:04, 3.53MB/s]\u001b[A\n",
            ".vector_cache/glove.6B.zip:  49%|████▉     | 423M/862M [01:19<02:48, 2.61MB/s]\u001b[A\n",
            ".vector_cache/glove.6B.zip:  49%|████▉     | 426M/862M [01:19<02:03, 3.54MB/s]\u001b[A\n",
            ".vector_cache/glove.6B.zip:  50%|████▉     | 427M/862M [01:20<02:46, 2.61MB/s]\u001b[A\n",
            ".vector_cache/glove.6B.zip:  50%|████▉     | 431M/862M [01:20<02:02, 3.53MB/s]\u001b[A\n",
            ".vector_cache/glove.6B.zip:  50%|█████     | 432M/862M [01:20<02:45, 2.60MB/s]\u001b[A\n",
            ".vector_cache/glove.6B.zip:  50%|█████     | 435M/862M [01:21<02:01, 3.53MB/s]\u001b[A\n",
            ".vector_cache/glove.6B.zip:  51%|█████     | 436M/862M [01:21<02:45, 2.58MB/s]\u001b[A\n",
            ".vector_cache/glove.6B.zip:  51%|█████     | 439M/862M [01:21<02:00, 3.50MB/s]\u001b[A\n",
            ".vector_cache/glove.6B.zip:  51%|█████     | 440M/862M [01:22<02:43, 2.58MB/s]\u001b[A\n",
            ".vector_cache/glove.6B.zip:  51%|█████▏    | 443M/862M [01:22<01:59, 3.50MB/s]\u001b[A\n",
            ".vector_cache/glove.6B.zip:  52%|█████▏    | 444M/862M [01:23<02:42, 2.58MB/s]\u001b[A\n",
            ".vector_cache/glove.6B.zip:  52%|█████▏    | 447M/862M [01:23<01:58, 3.49MB/s]\u001b[A\n",
            ".vector_cache/glove.6B.zip:  52%|█████▏    | 448M/862M [01:24<02:40, 2.58MB/s]\u001b[A\n",
            ".vector_cache/glove.6B.zip:  52%|█████▏    | 451M/862M [01:24<01:57, 3.50MB/s]\u001b[A\n",
            ".vector_cache/glove.6B.zip:  52%|█████▏    | 452M/862M [01:24<02:39, 2.57MB/s]\u001b[A\n",
            ".vector_cache/glove.6B.zip:  53%|█████▎    | 456M/862M [01:25<01:56, 3.49MB/s]\u001b[A\n",
            ".vector_cache/glove.6B.zip:  53%|█████▎    | 457M/862M [01:25<02:37, 2.58MB/s]\u001b[A\n",
            ".vector_cache/glove.6B.zip:  53%|█████▎    | 460M/862M [01:25<01:55, 3.49MB/s]\u001b[A\n",
            ".vector_cache/glove.6B.zip:  53%|█████▎    | 461M/862M [01:26<02:35, 2.58MB/s]\u001b[A\n",
            ".vector_cache/glove.6B.zip:  54%|█████▍    | 464M/862M [01:26<01:54, 3.49MB/s]\u001b[A\n",
            ".vector_cache/glove.6B.zip:  54%|█████▍    | 465M/862M [01:27<02:33, 2.58MB/s]\u001b[A\n",
            ".vector_cache/glove.6B.zip:  54%|█████▍    | 468M/862M [01:27<01:52, 3.49MB/s]\u001b[A\n",
            ".vector_cache/glove.6B.zip:  54%|█████▍    | 469M/862M [01:28<02:33, 2.57MB/s]\u001b[A\n",
            ".vector_cache/glove.6B.zip:  55%|█████▍    | 472M/862M [01:28<01:52, 3.48MB/s]\u001b[A\n",
            ".vector_cache/glove.6B.zip:  55%|█████▍    | 473M/862M [01:28<02:31, 2.57MB/s]\u001b[A\n",
            ".vector_cache/glove.6B.zip:  55%|█████▌    | 476M/862M [01:29<01:50, 3.48MB/s]\u001b[A\n",
            ".vector_cache/glove.6B.zip:  55%|█████▌    | 477M/862M [01:29<02:28, 2.59MB/s]\u001b[A\n",
            ".vector_cache/glove.6B.zip:  56%|█████▌    | 481M/862M [01:29<01:48, 3.51MB/s]\u001b[A\n",
            ".vector_cache/glove.6B.zip:  56%|█████▌    | 482M/862M [01:30<02:27, 2.59MB/s]\u001b[A\n",
            ".vector_cache/glove.6B.zip:  56%|█████▌    | 485M/862M [01:30<01:47, 3.50MB/s]\u001b[A\n",
            ".vector_cache/glove.6B.zip:  56%|█████▋    | 486M/862M [01:31<02:25, 2.58MB/s]\u001b[A\n",
            ".vector_cache/glove.6B.zip:  57%|█████▋    | 489M/862M [01:31<01:46, 3.50MB/s]\u001b[A\n",
            ".vector_cache/glove.6B.zip:  57%|█████▋    | 490M/862M [01:32<02:23, 2.59MB/s]\u001b[A\n",
            ".vector_cache/glove.6B.zip:  57%|█████▋    | 493M/862M [01:32<01:45, 3.51MB/s]\u001b[A\n",
            ".vector_cache/glove.6B.zip:  57%|█████▋    | 494M/862M [01:32<02:22, 2.59MB/s]\u001b[A\n",
            ".vector_cache/glove.6B.zip:  58%|█████▊    | 497M/862M [01:33<01:44, 3.50MB/s]\u001b[A\n",
            ".vector_cache/glove.6B.zip:  58%|█████▊    | 498M/862M [01:33<02:20, 2.58MB/s]\u001b[A\n",
            ".vector_cache/glove.6B.zip:  58%|█████▊    | 501M/862M [01:33<01:43, 3.50MB/s]\u001b[A\n",
            ".vector_cache/glove.6B.zip:  58%|█████▊    | 502M/862M [01:34<02:19, 2.59MB/s]\u001b[A\n",
            ".vector_cache/glove.6B.zip:  59%|█████▊    | 506M/862M [01:34<01:41, 3.50MB/s]\u001b[A\n",
            ".vector_cache/glove.6B.zip:  59%|█████▉    | 507M/862M [01:35<02:17, 2.59MB/s]\u001b[A\n",
            ".vector_cache/glove.6B.zip:  59%|█████▉    | 510M/862M [01:35<01:40, 3.51MB/s]\u001b[A\n",
            ".vector_cache/glove.6B.zip:  59%|█████▉    | 511M/862M [01:36<02:09, 2.71MB/s]\u001b[A\n",
            ".vector_cache/glove.6B.zip:  60%|█████▉    | 514M/862M [01:36<01:35, 3.66MB/s]\u001b[A\n",
            ".vector_cache/glove.6B.zip:  60%|█████▉    | 515M/862M [01:36<02:11, 2.65MB/s]\u001b[A\n",
            ".vector_cache/glove.6B.zip:  60%|██████    | 518M/862M [01:36<01:36, 3.58MB/s]\u001b[A\n",
            ".vector_cache/glove.6B.zip:  60%|██████    | 519M/862M [01:37<02:10, 2.62MB/s]\u001b[A\n",
            ".vector_cache/glove.6B.zip:  61%|██████    | 522M/862M [01:37<01:35, 3.55MB/s]\u001b[A\n",
            ".vector_cache/glove.6B.zip:  61%|██████    | 523M/862M [01:38<02:10, 2.60MB/s]\u001b[A\n",
            ".vector_cache/glove.6B.zip:  61%|██████    | 526M/862M [01:38<01:35, 3.52MB/s]\u001b[A\n",
            ".vector_cache/glove.6B.zip:  61%|██████    | 527M/862M [01:39<02:09, 2.59MB/s]\u001b[A\n",
            ".vector_cache/glove.6B.zip:  62%|██████▏   | 530M/862M [01:39<01:34, 3.50MB/s]\u001b[A\n",
            ".vector_cache/glove.6B.zip:  62%|██████▏   | 532M/862M [01:40<02:01, 2.72MB/s]\u001b[A\n",
            ".vector_cache/glove.6B.zip:  62%|██████▏   | 535M/862M [01:40<01:29, 3.67MB/s]\u001b[A\n",
            ".vector_cache/glove.6B.zip:  62%|██████▏   | 536M/862M [01:40<02:03, 2.65MB/s]\u001b[A\n",
            ".vector_cache/glove.6B.zip:  63%|██████▎   | 539M/862M [01:40<01:30, 3.58MB/s]\u001b[A\n",
            ".vector_cache/glove.6B.zip:  63%|██████▎   | 540M/862M [01:41<02:03, 2.61MB/s]\u001b[A\n",
            ".vector_cache/glove.6B.zip:  63%|██████▎   | 543M/862M [01:41<01:30, 3.54MB/s]\u001b[A\n",
            ".vector_cache/glove.6B.zip:  63%|██████▎   | 544M/862M [01:42<02:02, 2.59MB/s]\u001b[A\n",
            ".vector_cache/glove.6B.zip:  63%|██████▎   | 547M/862M [01:42<01:29, 3.50MB/s]\u001b[A\n",
            ".vector_cache/glove.6B.zip:  64%|██████▎   | 548M/862M [01:43<02:01, 2.58MB/s]\u001b[A\n",
            ".vector_cache/glove.6B.zip:  64%|██████▍   | 551M/862M [01:43<01:28, 3.50MB/s]\u001b[A\n",
            ".vector_cache/glove.6B.zip:  64%|██████▍   | 552M/862M [01:43<02:00, 2.58MB/s]\u001b[A\n",
            ".vector_cache/glove.6B.zip:  64%|██████▍   | 556M/862M [01:44<01:27, 3.50MB/s]\u001b[A\n",
            ".vector_cache/glove.6B.zip:  65%|██████▍   | 557M/862M [01:44<01:58, 2.58MB/s]\u001b[A\n",
            ".vector_cache/glove.6B.zip:  65%|██████▍   | 560M/862M [01:44<01:26, 3.50MB/s]\u001b[A\n",
            ".vector_cache/glove.6B.zip:  65%|██████▌   | 561M/862M [01:45<01:56, 2.58MB/s]\u001b[A\n",
            ".vector_cache/glove.6B.zip:  65%|██████▌   | 564M/862M [01:45<01:25, 3.50MB/s]\u001b[A\n",
            ".vector_cache/glove.6B.zip:  66%|██████▌   | 565M/862M [01:46<01:54, 2.59MB/s]\u001b[A\n",
            ".vector_cache/glove.6B.zip:  66%|██████▌   | 568M/862M [01:46<01:23, 3.51MB/s]\u001b[A\n",
            ".vector_cache/glove.6B.zip:  66%|██████▌   | 569M/862M [01:47<01:53, 2.58MB/s]\u001b[A\n",
            ".vector_cache/glove.6B.zip:  66%|██████▋   | 572M/862M [01:47<01:22, 3.50MB/s]\u001b[A\n",
            ".vector_cache/glove.6B.zip:  66%|██████▋   | 573M/862M [01:47<01:51, 2.58MB/s]\u001b[A\n",
            ".vector_cache/glove.6B.zip:  67%|██████▋   | 576M/862M [01:48<01:21, 3.50MB/s]\u001b[A\n",
            ".vector_cache/glove.6B.zip:  67%|██████▋   | 577M/862M [01:48<01:50, 2.58MB/s]\u001b[A\n",
            ".vector_cache/glove.6B.zip:  67%|██████▋   | 581M/862M [01:48<01:20, 3.50MB/s]\u001b[A\n",
            ".vector_cache/glove.6B.zip:  67%|██████▋   | 582M/862M [01:49<01:48, 2.59MB/s]\u001b[A\n",
            ".vector_cache/glove.6B.zip:  68%|██████▊   | 585M/862M [01:49<01:18, 3.51MB/s]\u001b[A\n",
            ".vector_cache/glove.6B.zip:  68%|██████▊   | 586M/862M [01:50<01:47, 2.58MB/s]\u001b[A\n",
            ".vector_cache/glove.6B.zip:  68%|██████▊   | 589M/862M [01:50<01:18, 3.49MB/s]\u001b[A\n",
            ".vector_cache/glove.6B.zip:  68%|██████▊   | 590M/862M [01:51<01:45, 2.58MB/s]\u001b[A\n",
            ".vector_cache/glove.6B.zip:  69%|██████▉   | 593M/862M [01:51<01:16, 3.50MB/s]\u001b[A\n",
            ".vector_cache/glove.6B.zip:  69%|██████▉   | 594M/862M [01:51<01:44, 2.57MB/s]\u001b[A\n",
            ".vector_cache/glove.6B.zip:  69%|██████▉   | 597M/862M [01:52<01:15, 3.49MB/s]\u001b[A\n",
            ".vector_cache/glove.6B.zip:  69%|██████▉   | 598M/862M [01:52<01:42, 2.57MB/s]\u001b[A\n",
            ".vector_cache/glove.6B.zip:  70%|██████▉   | 601M/862M [01:52<01:14, 3.49MB/s]\u001b[A\n",
            ".vector_cache/glove.6B.zip:  70%|██████▉   | 602M/862M [01:53<01:38, 2.65MB/s]\u001b[A\n",
            ".vector_cache/glove.6B.zip:  70%|███████   | 606M/862M [01:53<01:11, 3.58MB/s]\u001b[A\n",
            ".vector_cache/glove.6B.zip:  70%|███████   | 607M/862M [01:54<01:37, 2.62MB/s]\u001b[A\n",
            ".vector_cache/glove.6B.zip:  71%|███████   | 610M/862M [01:54<01:11, 3.55MB/s]\u001b[A\n",
            ".vector_cache/glove.6B.zip:  71%|███████   | 611M/862M [01:55<01:36, 2.61MB/s]\u001b[A\n",
            ".vector_cache/glove.6B.zip:  71%|███████   | 614M/862M [01:55<01:10, 3.53MB/s]\u001b[A\n",
            ".vector_cache/glove.6B.zip:  71%|███████▏  | 615M/862M [01:55<01:34, 2.60MB/s]\u001b[A\n",
            ".vector_cache/glove.6B.zip:  72%|███████▏  | 618M/862M [01:56<01:09, 3.52MB/s]\u001b[A\n",
            ".vector_cache/glove.6B.zip:  72%|███████▏  | 619M/862M [01:56<01:34, 2.58MB/s]\u001b[A\n",
            ".vector_cache/glove.6B.zip:  72%|███████▏  | 622M/862M [01:56<01:08, 3.50MB/s]\u001b[A\n",
            ".vector_cache/glove.6B.zip:  72%|███████▏  | 623M/862M [01:57<01:32, 2.59MB/s]\u001b[A\n",
            ".vector_cache/glove.6B.zip:  73%|███████▎  | 626M/862M [01:57<01:07, 3.49MB/s]\u001b[A\n",
            ".vector_cache/glove.6B.zip:  73%|███████▎  | 627M/862M [01:58<01:20, 2.93MB/s]\u001b[A\n",
            ".vector_cache/glove.6B.zip:  73%|███████▎  | 631M/862M [01:58<00:58, 3.94MB/s]\u001b[A\n",
            ".vector_cache/glove.6B.zip:  73%|███████▎  | 632M/862M [01:59<01:24, 2.73MB/s]\u001b[A\n",
            ".vector_cache/glove.6B.zip:  74%|███████▎  | 635M/862M [01:59<01:01, 3.69MB/s]\u001b[A\n",
            ".vector_cache/glove.6B.zip:  74%|███████▎  | 636M/862M [01:59<01:25, 2.65MB/s]\u001b[A\n",
            ".vector_cache/glove.6B.zip:  74%|███████▍  | 639M/862M [02:00<01:02, 3.59MB/s]\u001b[A\n",
            ".vector_cache/glove.6B.zip:  74%|███████▍  | 640M/862M [02:00<01:23, 2.66MB/s]\u001b[A\n",
            ".vector_cache/glove.6B.zip:  75%|███████▍  | 643M/862M [02:00<01:00, 3.60MB/s]\u001b[A\n",
            ".vector_cache/glove.6B.zip:  75%|███████▍  | 644M/862M [02:01<01:22, 2.63MB/s]\u001b[A\n",
            ".vector_cache/glove.6B.zip:  75%|███████▌  | 647M/862M [02:01<01:00, 3.56MB/s]\u001b[A\n",
            ".vector_cache/glove.6B.zip:  75%|███████▌  | 648M/862M [02:02<01:21, 2.62MB/s]\u001b[A\n",
            ".vector_cache/glove.6B.zip:  76%|███████▌  | 651M/862M [02:02<00:59, 3.54MB/s]\u001b[A\n",
            ".vector_cache/glove.6B.zip:  76%|███████▌  | 653M/862M [02:03<01:19, 2.62MB/s]\u001b[A\n",
            ".vector_cache/glove.6B.zip:  76%|███████▌  | 656M/862M [02:03<00:58, 3.55MB/s]\u001b[A\n",
            ".vector_cache/glove.6B.zip:  76%|███████▌  | 657M/862M [02:03<01:18, 2.62MB/s]\u001b[A\n",
            ".vector_cache/glove.6B.zip:  77%|███████▋  | 660M/862M [02:04<00:57, 3.54MB/s]\u001b[A\n",
            ".vector_cache/glove.6B.zip:  77%|███████▋  | 661M/862M [02:04<01:17, 2.61MB/s]\u001b[A\n",
            ".vector_cache/glove.6B.zip:  77%|███████▋  | 664M/862M [02:04<00:55, 3.54MB/s]\u001b[A\n",
            ".vector_cache/glove.6B.zip:  77%|███████▋  | 665M/862M [02:05<01:15, 2.62MB/s]\u001b[A\n",
            ".vector_cache/glove.6B.zip:  77%|███████▋  | 668M/862M [02:05<00:54, 3.55MB/s]\u001b[A\n",
            ".vector_cache/glove.6B.zip:  78%|███████▊  | 669M/862M [02:06<01:13, 2.63MB/s]\u001b[A\n",
            ".vector_cache/glove.6B.zip:  78%|███████▊  | 672M/862M [02:06<00:53, 3.56MB/s]\u001b[A\n",
            ".vector_cache/glove.6B.zip:  78%|███████▊  | 673M/862M [02:07<01:11, 2.64MB/s]\u001b[A\n",
            ".vector_cache/glove.6B.zip:  78%|███████▊  | 676M/862M [02:07<00:52, 3.56MB/s]\u001b[A\n",
            ".vector_cache/glove.6B.zip:  79%|███████▊  | 678M/862M [02:07<01:10, 2.62MB/s]\u001b[A\n",
            ".vector_cache/glove.6B.zip:  79%|███████▉  | 681M/862M [02:07<00:51, 3.55MB/s]\u001b[A\n",
            ".vector_cache/glove.6B.zip:  79%|███████▉  | 682M/862M [02:08<01:08, 2.62MB/s]\u001b[A\n",
            ".vector_cache/glove.6B.zip:  79%|███████▉  | 684M/862M [02:08<00:50, 3.52MB/s]\u001b[A\n",
            ".vector_cache/glove.6B.zip:  80%|███████▉  | 686M/862M [02:09<00:57, 3.09MB/s]\u001b[A\n",
            ".vector_cache/glove.6B.zip:  80%|███████▉  | 689M/862M [02:09<00:41, 4.14MB/s]\u001b[A\n",
            ".vector_cache/glove.6B.zip:  80%|████████  | 690M/862M [02:10<00:58, 2.95MB/s]\u001b[A\n",
            ".vector_cache/glove.6B.zip:  80%|████████  | 693M/862M [02:10<00:42, 3.97MB/s]\u001b[A\n",
            ".vector_cache/glove.6B.zip:  81%|████████  | 694M/862M [02:11<00:58, 2.86MB/s]\u001b[A\n",
            ".vector_cache/glove.6B.zip:  81%|████████  | 697M/862M [02:11<00:42, 3.86MB/s]\u001b[A\n",
            ".vector_cache/glove.6B.zip:  81%|████████  | 698M/862M [02:11<00:58, 2.80MB/s]\u001b[A\n",
            ".vector_cache/glove.6B.zip:  81%|████████▏ | 701M/862M [02:11<00:42, 3.78MB/s]\u001b[A\n",
            ".vector_cache/glove.6B.zip:  81%|████████▏ | 703M/862M [02:12<00:58, 2.75MB/s]\u001b[A\n",
            ".vector_cache/glove.6B.zip:  82%|████████▏ | 706M/862M [02:12<00:42, 3.71MB/s]\u001b[A\n",
            ".vector_cache/glove.6B.zip:  82%|████████▏ | 707M/862M [02:13<00:58, 2.66MB/s]\u001b[A\n",
            ".vector_cache/glove.6B.zip:  82%|████████▏ | 710M/862M [02:13<00:42, 3.60MB/s]\u001b[A\n",
            ".vector_cache/glove.6B.zip:  82%|████████▏ | 711M/862M [02:14<00:57, 2.62MB/s]\u001b[A\n",
            ".vector_cache/glove.6B.zip:  83%|████████▎ | 714M/862M [02:14<00:41, 3.55MB/s]\u001b[A\n",
            ".vector_cache/glove.6B.zip:  83%|████████▎ | 715M/862M [02:14<00:56, 2.61MB/s]\u001b[A\n",
            ".vector_cache/glove.6B.zip:  83%|████████▎ | 718M/862M [02:15<00:40, 3.54MB/s]\u001b[A\n",
            ".vector_cache/glove.6B.zip:  83%|████████▎ | 719M/862M [02:15<00:55, 2.60MB/s]\u001b[A\n",
            ".vector_cache/glove.6B.zip:  84%|████████▍ | 722M/862M [02:15<00:39, 3.52MB/s]\u001b[A\n",
            ".vector_cache/glove.6B.zip:  84%|████████▍ | 723M/862M [02:16<00:53, 2.60MB/s]\u001b[A\n",
            ".vector_cache/glove.6B.zip:  84%|████████▍ | 727M/862M [02:16<00:38, 3.53MB/s]\u001b[A\n",
            ".vector_cache/glove.6B.zip:  84%|████████▍ | 728M/862M [02:17<00:51, 2.59MB/s]\u001b[A\n",
            ".vector_cache/glove.6B.zip:  85%|████████▍ | 731M/862M [02:17<00:37, 3.51MB/s]\u001b[A\n",
            ".vector_cache/glove.6B.zip:  85%|████████▍ | 732M/862M [02:18<00:49, 2.65MB/s]\u001b[A\n",
            ".vector_cache/glove.6B.zip:  85%|████████▌ | 735M/862M [02:18<00:35, 3.58MB/s]\u001b[A\n",
            ".vector_cache/glove.6B.zip:  85%|████████▌ | 736M/862M [02:18<00:48, 2.62MB/s]\u001b[A\n",
            ".vector_cache/glove.6B.zip:  86%|████████▌ | 739M/862M [02:19<00:34, 3.54MB/s]\u001b[A\n",
            ".vector_cache/glove.6B.zip:  86%|████████▌ | 740M/862M [02:19<00:46, 2.60MB/s]\u001b[A\n",
            ".vector_cache/glove.6B.zip:  86%|████████▌ | 743M/862M [02:19<00:33, 3.52MB/s]\u001b[A\n",
            ".vector_cache/glove.6B.zip:  86%|████████▋ | 744M/862M [02:20<00:45, 2.60MB/s]\u001b[A\n",
            ".vector_cache/glove.6B.zip:  87%|████████▋ | 747M/862M [02:20<00:32, 3.52MB/s]\u001b[A\n",
            ".vector_cache/glove.6B.zip:  87%|████████▋ | 748M/862M [02:21<00:43, 2.60MB/s]\u001b[A\n",
            ".vector_cache/glove.6B.zip:  87%|████████▋ | 752M/862M [02:21<00:31, 3.52MB/s]\u001b[A\n",
            ".vector_cache/glove.6B.zip:  87%|████████▋ | 753M/862M [02:22<00:42, 2.59MB/s]\u001b[A\n",
            ".vector_cache/glove.6B.zip:  88%|████████▊ | 756M/862M [02:22<00:30, 3.51MB/s]\u001b[A\n",
            ".vector_cache/glove.6B.zip:  88%|████████▊ | 757M/862M [02:22<00:40, 2.58MB/s]\u001b[A\n",
            ".vector_cache/glove.6B.zip:  88%|████████▊ | 760M/862M [02:23<00:29, 3.50MB/s]\u001b[A\n",
            ".vector_cache/glove.6B.zip:  88%|████████▊ | 761M/862M [02:23<00:39, 2.58MB/s]\u001b[A\n",
            ".vector_cache/glove.6B.zip:  89%|████████▊ | 764M/862M [02:23<00:28, 3.50MB/s]\u001b[A\n",
            ".vector_cache/glove.6B.zip:  89%|████████▊ | 765M/862M [02:24<00:37, 2.58MB/s]\u001b[A\n",
            ".vector_cache/glove.6B.zip:  89%|████████▉ | 768M/862M [02:24<00:26, 3.50MB/s]\u001b[A\n",
            ".vector_cache/glove.6B.zip:  89%|████████▉ | 769M/862M [02:25<00:36, 2.57MB/s]\u001b[A\n",
            ".vector_cache/glove.6B.zip:  90%|████████▉ | 772M/862M [02:25<00:25, 3.48MB/s]\u001b[A\n",
            ".vector_cache/glove.6B.zip:  90%|████████▉ | 773M/862M [02:26<00:34, 2.58MB/s]\u001b[A\n",
            ".vector_cache/glove.6B.zip:  90%|█████████ | 777M/862M [02:26<00:24, 3.50MB/s]\u001b[A\n",
            ".vector_cache/glove.6B.zip:  90%|█████████ | 778M/862M [02:26<00:32, 2.58MB/s]\u001b[A\n",
            ".vector_cache/glove.6B.zip:  91%|█████████ | 781M/862M [02:27<00:23, 3.50MB/s]\u001b[A\n",
            ".vector_cache/glove.6B.zip:  91%|█████████ | 782M/862M [02:27<00:31, 2.58MB/s]\u001b[A\n",
            ".vector_cache/glove.6B.zip:  91%|█████████ | 785M/862M [02:27<00:22, 3.49MB/s]\u001b[A\n",
            ".vector_cache/glove.6B.zip:  91%|█████████ | 786M/862M [02:28<00:29, 2.58MB/s]\u001b[A\n",
            ".vector_cache/glove.6B.zip:  91%|█████████▏| 789M/862M [02:28<00:21, 3.48MB/s]\u001b[A\n",
            ".vector_cache/glove.6B.zip:  92%|█████████▏| 790M/862M [02:29<00:24, 2.93MB/s]\u001b[A\n",
            ".vector_cache/glove.6B.zip:  92%|█████████▏| 793M/862M [02:29<00:17, 3.94MB/s]\u001b[A\n",
            ".vector_cache/glove.6B.zip:  92%|█████████▏| 794M/862M [02:30<00:24, 2.76MB/s]\u001b[A\n",
            ".vector_cache/glove.6B.zip:  92%|█████████▏| 797M/862M [02:30<00:17, 3.72MB/s]\u001b[A\n",
            ".vector_cache/glove.6B.zip:  93%|█████████▎| 798M/862M [02:30<00:23, 2.69MB/s]\u001b[A\n",
            ".vector_cache/glove.6B.zip:  93%|█████████▎| 802M/862M [02:31<00:16, 3.63MB/s]\u001b[A\n",
            ".vector_cache/glove.6B.zip:  93%|█████████▎| 803M/862M [02:31<00:22, 2.65MB/s]\u001b[A\n",
            ".vector_cache/glove.6B.zip:  93%|█████████▎| 806M/862M [02:31<00:15, 3.59MB/s]\u001b[A\n",
            ".vector_cache/glove.6B.zip:  94%|█████████▎| 807M/862M [02:32<00:21, 2.64MB/s]\u001b[A\n",
            ".vector_cache/glove.6B.zip:  94%|█████████▍| 810M/862M [02:32<00:14, 3.57MB/s]\u001b[A\n",
            ".vector_cache/glove.6B.zip:  94%|█████████▍| 811M/862M [02:33<00:19, 2.62MB/s]\u001b[A\n",
            ".vector_cache/glove.6B.zip:  94%|█████████▍| 814M/862M [02:33<00:13, 3.54MB/s]\u001b[A\n",
            ".vector_cache/glove.6B.zip:  95%|█████████▍| 815M/862M [02:34<00:18, 2.61MB/s]\u001b[A\n",
            ".vector_cache/glove.6B.zip:  95%|█████████▍| 818M/862M [02:34<00:12, 3.53MB/s]\u001b[A\n",
            ".vector_cache/glove.6B.zip:  95%|█████████▌| 819M/862M [02:34<00:16, 2.59MB/s]\u001b[A\n",
            ".vector_cache/glove.6B.zip:  95%|█████████▌| 822M/862M [02:35<00:11, 3.51MB/s]\u001b[A\n",
            ".vector_cache/glove.6B.zip:  96%|█████████▌| 823M/862M [02:35<00:14, 2.60MB/s]\u001b[A\n",
            ".vector_cache/glove.6B.zip:  96%|█████████▌| 827M/862M [02:35<00:10, 3.52MB/s]\u001b[A\n",
            ".vector_cache/glove.6B.zip:  96%|█████████▌| 828M/862M [02:36<00:13, 2.58MB/s]\u001b[A\n",
            ".vector_cache/glove.6B.zip:  96%|█████████▋| 831M/862M [02:36<00:09, 3.50MB/s]\u001b[A\n",
            ".vector_cache/glove.6B.zip:  96%|█████████▋| 832M/862M [02:37<00:11, 2.59MB/s]\u001b[A\n",
            ".vector_cache/glove.6B.zip:  97%|█████████▋| 835M/862M [02:37<00:07, 3.50MB/s]\u001b[A\n",
            ".vector_cache/glove.6B.zip:  97%|█████████▋| 836M/862M [02:38<00:10, 2.58MB/s]\u001b[A\n",
            ".vector_cache/glove.6B.zip:  97%|█████████▋| 839M/862M [02:38<00:06, 3.50MB/s]\u001b[A\n",
            ".vector_cache/glove.6B.zip:  97%|█████████▋| 840M/862M [02:38<00:08, 2.58MB/s]\u001b[A\n",
            ".vector_cache/glove.6B.zip:  98%|█████████▊| 843M/862M [02:38<00:05, 3.50MB/s]\u001b[A\n",
            ".vector_cache/glove.6B.zip:  98%|█████████▊| 844M/862M [02:39<00:06, 2.58MB/s]\u001b[A\n",
            ".vector_cache/glove.6B.zip:  98%|█████████▊| 847M/862M [02:39<00:04, 3.49MB/s]\u001b[A\n",
            ".vector_cache/glove.6B.zip:  98%|█████████▊| 848M/862M [02:40<00:05, 2.58MB/s]\u001b[A\n",
            ".vector_cache/glove.6B.zip:  99%|█████████▉| 852M/862M [02:40<00:03, 3.50MB/s]\u001b[A\n",
            ".vector_cache/glove.6B.zip:  99%|█████████▉| 853M/862M [02:41<00:03, 2.58MB/s]\u001b[A\n",
            ".vector_cache/glove.6B.zip:  99%|█████████▉| 856M/862M [02:41<00:01, 3.50MB/s]\u001b[A\n",
            ".vector_cache/glove.6B.zip:  99%|█████████▉| 857M/862M [02:42<00:02, 2.58MB/s]\u001b[A\n",
            ".vector_cache/glove.6B.zip: 100%|█████████▉| 860M/862M [02:42<00:00, 3.50MB/s]\u001b[A\n",
            ".vector_cache/glove.6B.zip: 862MB [02:42, 5.30MB/s]                           \n",
            "\n",
            "  0%|          | 0/400000 [00:00<?, ?it/s]\u001b[A\n",
            "  1%|          | 4522/400000 [00:00<00:08, 45218.32it/s]\u001b[A\n",
            "  2%|▏         | 9057/400000 [00:00<00:08, 45254.49it/s]\u001b[A\n",
            "  3%|▎         | 13456/400000 [00:00<00:08, 44865.23it/s]\u001b[A\n",
            "  4%|▍         | 17847/400000 [00:00<00:08, 44572.79it/s]\u001b[A\n",
            "  5%|▌         | 21271/400000 [00:00<00:09, 40865.08it/s]\u001b[A\n",
            "  6%|▋         | 25676/400000 [00:00<00:08, 41769.32it/s]\u001b[A\n",
            "  8%|▊         | 30146/400000 [00:00<00:08, 42607.17it/s]\u001b[A\n",
            "  9%|▊         | 34632/400000 [00:00<00:08, 43257.96it/s]\u001b[A\n",
            " 10%|▉         | 38775/400000 [00:00<00:08, 42690.98it/s]\u001b[A\n",
            " 11%|█         | 43195/400000 [00:01<00:08, 43130.69it/s]\u001b[A\n",
            " 12%|█▏        | 47422/400000 [00:01<00:08, 42866.32it/s]\u001b[A\n",
            " 13%|█▎        | 51631/400000 [00:01<00:08, 42486.18it/s]\u001b[A\n",
            " 14%|█▍        | 56090/400000 [00:01<00:07, 43094.62it/s]\u001b[A\n",
            " 15%|█▌        | 60522/400000 [00:01<00:07, 43453.30it/s]\u001b[A\n",
            " 16%|█▌        | 64844/400000 [00:01<00:07, 43357.10it/s]\u001b[A\n",
            " 17%|█▋        | 69237/400000 [00:01<00:07, 43524.69it/s]\u001b[A\n",
            " 18%|█▊        | 73578/400000 [00:01<00:07, 41810.18it/s]\u001b[A\n",
            " 19%|█▉        | 77766/400000 [00:01<00:07, 40764.00it/s]\u001b[A\n",
            " 20%|██        | 81874/400000 [00:01<00:07, 40858.27it/s]\u001b[A\n",
            " 21%|██▏       | 85968/400000 [00:02<00:07, 40469.71it/s]\u001b[A\n",
            " 23%|██▎       | 90021/400000 [00:02<00:07, 40040.59it/s]\u001b[A\n",
            " 24%|██▎       | 94152/400000 [00:02<00:07, 40410.90it/s]\u001b[A\n",
            " 25%|██▍       | 98198/400000 [00:02<00:07, 39822.72it/s]\u001b[A\n",
            " 26%|██▌       | 102332/400000 [00:02<00:07, 40264.94it/s]\u001b[A\n",
            " 27%|██▋       | 106393/400000 [00:02<00:07, 40367.65it/s]\u001b[A\n",
            " 28%|██▊       | 110434/400000 [00:02<00:07, 40001.34it/s]\u001b[A\n",
            " 29%|██▊       | 114494/400000 [00:02<00:07, 40178.83it/s]\u001b[A\n",
            " 30%|██▉       | 118526/400000 [00:02<00:06, 40220.28it/s]\u001b[A\n",
            " 31%|███       | 122643/400000 [00:02<00:06, 40498.53it/s]\u001b[A\n",
            " 32%|███▏      | 126721/400000 [00:03<00:06, 40581.53it/s]\u001b[A\n",
            " 33%|███▎      | 130927/400000 [00:03<00:06, 41013.17it/s]\u001b[A\n",
            " 34%|███▍      | 135031/400000 [00:03<00:06, 40837.29it/s]\u001b[A\n",
            " 35%|███▍      | 139117/400000 [00:03<00:06, 40698.71it/s]\u001b[A\n",
            " 36%|███▌      | 143189/400000 [00:03<00:06, 39973.69it/s]\u001b[A\n",
            " 37%|███▋      | 147191/400000 [00:03<00:06, 39734.82it/s]\u001b[A\n",
            " 38%|███▊      | 151168/400000 [00:03<00:06, 39743.87it/s]\u001b[A\n",
            " 39%|███▉      | 155145/400000 [00:03<00:06, 39579.59it/s]\u001b[A\n",
            " 40%|███▉      | 159105/400000 [00:03<00:06, 39209.50it/s]\u001b[A\n",
            " 41%|████      | 163028/400000 [00:03<00:06, 38849.08it/s]\u001b[A\n",
            " 42%|████▏     | 166982/400000 [00:04<00:05, 39053.46it/s]\u001b[A\n",
            " 43%|████▎     | 170957/400000 [00:04<00:05, 39257.39it/s]\u001b[A\n",
            " 44%|████▍     | 175028/400000 [00:04<00:05, 39681.32it/s]\u001b[A\n",
            " 45%|████▍     | 178999/400000 [00:04<00:05, 39682.27it/s]\u001b[A\n",
            " 46%|████▌     | 182978/400000 [00:04<00:05, 39714.06it/s]\u001b[A\n",
            " 47%|████▋     | 186951/400000 [00:04<00:05, 39688.60it/s]\u001b[A\n",
            " 48%|████▊     | 190921/400000 [00:04<00:05, 39313.84it/s]\u001b[A\n",
            " 49%|████▉     | 195013/400000 [00:04<00:05, 39779.07it/s]\u001b[A\n",
            " 50%|████▉     | 198994/400000 [00:04<00:05, 39069.59it/s]\u001b[A\n",
            " 51%|█████     | 202906/400000 [00:04<00:05, 38728.93it/s]\u001b[A\n",
            " 52%|█████▏    | 206902/400000 [00:05<00:04, 39089.71it/s]\u001b[A\n",
            " 53%|█████▎    | 211057/400000 [00:05<00:04, 39794.94it/s]\u001b[A\n",
            " 54%|█████▍    | 215087/400000 [00:05<00:04, 39943.52it/s]\u001b[A\n",
            " 55%|█████▍    | 219150/400000 [00:05<00:04, 40145.64it/s]\u001b[A\n",
            " 56%|█████▌    | 223168/400000 [00:05<00:04, 39640.55it/s]\u001b[A\n",
            " 57%|█████▋    | 227166/400000 [00:05<00:04, 39739.22it/s]\u001b[A\n",
            " 58%|█████▊    | 231143/400000 [00:05<00:04, 39475.09it/s]\u001b[A\n",
            " 59%|█████▉    | 235219/400000 [00:05<00:04, 39851.32it/s]\u001b[A\n",
            " 60%|█████▉    | 239207/400000 [00:05<00:04, 39741.85it/s]\u001b[A\n",
            " 61%|██████    | 243331/400000 [00:05<00:03, 40178.10it/s]\u001b[A\n",
            " 62%|██████▏   | 247500/400000 [00:06<00:03, 40619.76it/s]\u001b[A\n",
            " 63%|██████▎   | 251565/400000 [00:06<00:03, 40551.93it/s]\u001b[A\n",
            " 64%|██████▍   | 255623/400000 [00:06<00:03, 40543.17it/s]\u001b[A\n",
            " 65%|██████▍   | 259774/400000 [00:06<00:03, 40827.18it/s]\u001b[A\n",
            " 66%|██████▌   | 263987/400000 [00:06<00:03, 41209.12it/s]\u001b[A\n",
            " 67%|██████▋   | 268110/400000 [00:06<00:03, 41135.04it/s]\u001b[A\n",
            " 68%|██████▊   | 272225/400000 [00:06<00:03, 40432.38it/s]\u001b[A\n",
            " 69%|██████▉   | 276272/400000 [00:06<00:03, 40195.34it/s]\u001b[A\n",
            " 70%|███████   | 280312/400000 [00:06<00:02, 40255.10it/s]\u001b[A\n",
            " 71%|███████   | 284340/400000 [00:06<00:02, 40016.34it/s]\u001b[A\n",
            " 72%|███████▏  | 288395/400000 [00:07<00:02, 40173.29it/s]\u001b[A\n",
            " 73%|███████▎  | 292442/400000 [00:07<00:02, 40259.73it/s]\u001b[A\n",
            " 74%|███████▍  | 296469/400000 [00:07<00:02, 40165.45it/s]\u001b[A\n",
            " 75%|███████▌  | 300606/400000 [00:07<00:02, 40518.35it/s]\u001b[A\n",
            " 76%|███████▌  | 304660/400000 [00:07<00:02, 40448.16it/s]\u001b[A\n",
            " 77%|███████▋  | 308706/400000 [00:07<00:02, 39331.78it/s]\u001b[A\n",
            " 78%|███████▊  | 312665/400000 [00:07<00:02, 39407.89it/s]\u001b[A\n",
            " 79%|███████▉  | 316813/400000 [00:07<00:02, 40005.89it/s]\u001b[A\n",
            " 80%|████████  | 320820/400000 [00:07<00:01, 39698.18it/s]\u001b[A\n",
            " 81%|████████▏ | 325116/400000 [00:08<00:01, 40622.36it/s]\u001b[A\n",
            " 82%|████████▏ | 329187/400000 [00:08<00:01, 40613.53it/s]\u001b[A\n",
            " 83%|████████▎ | 333338/400000 [00:08<00:01, 40876.63it/s]\u001b[A\n",
            " 84%|████████▍ | 337431/400000 [00:08<00:01, 40662.13it/s]\u001b[A\n",
            " 85%|████████▌ | 341702/400000 [00:08<00:01, 41252.90it/s]\u001b[A\n",
            " 86%|████████▋ | 345832/400000 [00:08<00:01, 40468.57it/s]\u001b[A\n",
            " 87%|████████▋ | 349974/400000 [00:08<00:01, 40747.21it/s]\u001b[A\n",
            " 89%|████████▊ | 354157/400000 [00:08<00:01, 41064.46it/s]\u001b[A\n",
            " 90%|████████▉ | 358268/400000 [00:08<00:01, 41008.28it/s]\u001b[A\n",
            " 91%|█████████ | 362372/400000 [00:08<00:00, 40906.33it/s]\u001b[A\n",
            " 92%|█████████▏| 366465/400000 [00:09<00:00, 40794.21it/s]\u001b[A\n",
            " 93%|█████████▎| 370546/400000 [00:09<00:00, 40562.19it/s]\u001b[A\n",
            " 94%|█████████▎| 374615/400000 [00:09<00:00, 40600.32it/s]\u001b[A\n",
            " 95%|█████████▍| 378752/400000 [00:09<00:00, 40826.16it/s]\u001b[A\n",
            " 96%|█████████▌| 382836/400000 [00:09<00:00, 39860.90it/s]\u001b[A\n",
            " 97%|█████████▋| 386828/400000 [00:09<00:00, 39345.02it/s]\u001b[A\n",
            " 98%|█████████▊| 390769/400000 [00:09<00:00, 38750.27it/s]\u001b[A\n",
            " 99%|█████████▊| 394650/400000 [00:09<00:00, 37350.31it/s]\u001b[A\n",
            "100%|█████████▉| 398659/400000 [00:09<00:00, 38130.17it/s]\u001b[A"
          ],
          "name": "stderr"
        }
      ]
    },
    {
      "cell_type": "code",
      "metadata": {
        "id": "FTzZmZAKUHT4"
      },
      "source": [
        " "
      ],
      "execution_count": null,
      "outputs": []
    },
    {
      "cell_type": "code",
      "metadata": {
        "colab": {
          "base_uri": "https://localhost:8080/",
          "height": 35
        },
        "id": "Ip0kmrVxFZDd",
        "outputId": "9f734916-b419-4f1a-d870-36721da90fe0"
      },
      "source": [
        "# get the vector corresponding to kind-man+woman\n",
        "qvec = vocab.vectors[vocab.stoi['king']]-vocab.vectors[vocab.stoi['man']]+1.3*vocab.vectors[vocab.stoi['woman']]\n",
        "# find the index of the closest embedding vector \n",
        "d= torch.sum((vocab.vectors-qvec)**2,dim=1)\n",
        "min_idx = torch.argmin(d)\n",
        "# find the corresponding word\n",
        "vocab.itos[min_idx]"
      ],
      "execution_count": 29,
      "outputs": [
        {
          "output_type": "execute_result",
          "data": {
            "application/vnd.google.colaboratory.intrinsic+json": {
              "type": "string"
            },
            "text/plain": [
              "'queen'"
            ]
          },
          "metadata": {
            "tags": []
          },
          "execution_count": 29
        }
      ]
    },
    {
      "cell_type": "code",
      "metadata": {
        "id": "7v0B7QeAddvK"
      },
      "source": [
        "def offsetify(b):\n",
        "    # first, compute data tensor from all sequences\n",
        "    # for t in b:\n",
        "    #   print(t)\n",
        "    x = [torch.tensor(encode(t[1],voc=vocab)) for t in b] # pass the instance of vocab to encode function!\n",
        "    # now, compute the offsets by accumulating the tensor of sequence lengths\n",
        "    o = [0] + [len(t) for t in x]\n",
        "    o = torch.tensor(o[:-1]).cumsum(dim=0)\n",
        "    return ( \n",
        "        torch.LongTensor([t[0]-1 for t in b]), # labels\n",
        "        torch.cat(x), # text \n",
        "        o\n",
        "    )"
      ],
      "execution_count": 86,
      "outputs": []
    },
    {
      "cell_type": "code",
      "metadata": {
        "id": "sbPx97gPdl2r"
      },
      "source": [
        "net = EmbedClassifier(len(vocab),len(vocab.vectors[0]),len(classes))\n",
        "net.embedding.weight.data = vocab.vectors\n",
        "net = net.to(device)"
      ],
      "execution_count": 87,
      "outputs": []
    },
    {
      "cell_type": "code",
      "metadata": {
        "id": "k5Q9NtZlj5wv"
      },
      "source": [
        "words1 = encode(\"Happy Sugar Sugar\",voc=vocab)"
      ],
      "execution_count": 43,
      "outputs": []
    },
    {
      "cell_type": "code",
      "metadata": {
        "id": "IfCMP6L4mL2C"
      },
      "source": [
        "t1 ='Lessons from Hollinger fiasco Hollinger International Inc. #39;s special committee #39;s report that details the apparent abuse by senior executives at the company, primarily Conrad Black and David Radler, is the latest in a series of scandals that have shocked corporate boardrooms across the '"
      ],
      "execution_count": 52,
      "outputs": []
    },
    {
      "cell_type": "code",
      "metadata": {
        "id": "ya0OhnaWl1hv"
      },
      "source": [
        "words1 = encode(t1,voc=vocab)"
      ],
      "execution_count": 53,
      "outputs": []
    },
    {
      "cell_type": "code",
      "metadata": {
        "colab": {
          "base_uri": "https://localhost:8080/",
          "height": 171
        },
        "id": "lBURMjdapJCc",
        "outputId": "decc8ba8-8946-40b3-aaa6-d02b345d70a2"
      },
      "source": [
        "words1.shape"
      ],
      "execution_count": 81,
      "outputs": [
        {
          "output_type": "error",
          "ename": "AttributeError",
          "evalue": "ignored",
          "traceback": [
            "\u001b[0;31m---------------------------------------------------------------------------\u001b[0m",
            "\u001b[0;31mAttributeError\u001b[0m                            Traceback (most recent call last)",
            "\u001b[0;32m<ipython-input-81-32a2bbba0c91>\u001b[0m in \u001b[0;36m<module>\u001b[0;34m()\u001b[0m\n\u001b[0;32m----> 1\u001b[0;31m \u001b[0mwords1\u001b[0m\u001b[0;34m.\u001b[0m\u001b[0mshape\u001b[0m\u001b[0;34m\u001b[0m\u001b[0;34m\u001b[0m\u001b[0m\n\u001b[0m",
            "\u001b[0;31mAttributeError\u001b[0m: 'list' object has no attribute 'shape'"
          ]
        }
      ]
    },
    {
      "cell_type": "code",
      "metadata": {
        "colab": {
          "base_uri": "https://localhost:8080/"
        },
        "id": "Vbw0oUckpuNN",
        "outputId": "888fa0ab-c6ce-4528-ef7f-8e4ab263ae38"
      },
      "source": [
        "len(words1)"
      ],
      "execution_count": 83,
      "outputs": [
        {
          "output_type": "execute_result",
          "data": {
            "text/plain": [
              "49"
            ]
          },
          "metadata": {
            "tags": []
          },
          "execution_count": 83
        }
      ]
    },
    {
      "cell_type": "code",
      "metadata": {
        "colab": {
          "base_uri": "https://localhost:8080/"
        },
        "id": "1bJzGUtoop4f",
        "outputId": "61ce135f-adf7-4115-ae3e-b0f6554c591c"
      },
      "source": [
        "torch.cat(words1,0).size()"
      ],
      "execution_count": 85,
      "outputs": [
        {
          "output_type": "execute_result",
          "data": {
            "text/plain": [
              "torch.Size([2450])"
            ]
          },
          "metadata": {
            "tags": []
          },
          "execution_count": 85
        }
      ]
    },
    {
      "cell_type": "code",
      "metadata": {
        "colab": {
          "base_uri": "https://localhost:8080/"
        },
        "id": "AiLVfUDQoMJv",
        "outputId": "7a86f45b-275d-4448-bf0a-1ed6c730b786"
      },
      "source": [
        "type(words1)"
      ],
      "execution_count": 91,
      "outputs": [
        {
          "output_type": "execute_result",
          "data": {
            "text/plain": [
              "49"
            ]
          },
          "metadata": {
            "tags": []
          },
          "execution_count": 91
        }
      ]
    },
    {
      "cell_type": "code",
      "metadata": {
        "colab": {
          "base_uri": "https://localhost:8080/"
        },
        "id": "x03JtBv9yzjA",
        "outputId": "67ef366e-3cb7-4ef8-e387-45d16fb00b99"
      },
      "source": [
        " torch.tensor([t.numpy() for t in words1]).shape"
      ],
      "execution_count": 95,
      "outputs": [
        {
          "output_type": "execute_result",
          "data": {
            "text/plain": [
              "torch.Size([49, 50])"
            ]
          },
          "metadata": {
            "tags": []
          },
          "execution_count": 95
        }
      ]
    },
    {
      "cell_type": "code",
      "metadata": {
        "colab": {
          "base_uri": "https://localhost:8080/"
        },
        "id": "_jPr-Edsyfh_",
        "outputId": "fe8ca8ce-b4e6-4f9e-dea5-e0691c625361"
      },
      "source": [
        "words1[0].shape"
      ],
      "execution_count": 90,
      "outputs": [
        {
          "output_type": "execute_result",
          "data": {
            "text/plain": [
              "torch.Size([50])"
            ]
          },
          "metadata": {
            "tags": []
          },
          "execution_count": 90
        }
      ]
    },
    {
      "cell_type": "code",
      "metadata": {
        "id": "v2-Xo_DddvRt"
      },
      "source": [
        "x1 = [torch.tensor(encode(\"Sugar\",voc=vocab).item)]\n"
      ],
      "execution_count": null,
      "outputs": []
    },
    {
      "cell_type": "code",
      "metadata": {
        "colab": {
          "base_uri": "https://localhost:8080/",
          "height": 376
        },
        "id": "1qG2nfqbdnKj",
        "outputId": "013f340f-4d25-4d37-bceb-45175aa9311b"
      },
      "source": [
        "train_loader = torch.utils.data.DataLoader(train_dataset, batch_size=16, collate_fn=offsetify, shuffle=True)\n",
        "train_epoch_emb(net,train_loader, lr=4, epoch_size=25000)"
      ],
      "execution_count": 88,
      "outputs": [
        {
          "output_type": "error",
          "ename": "ValueError",
          "evalue": "ignored",
          "traceback": [
            "\u001b[0;31m---------------------------------------------------------------------------\u001b[0m",
            "\u001b[0;31mValueError\u001b[0m                                Traceback (most recent call last)",
            "\u001b[0;32m<ipython-input-88-093f12993def>\u001b[0m in \u001b[0;36m<module>\u001b[0;34m()\u001b[0m\n\u001b[1;32m      1\u001b[0m \u001b[0mtrain_loader\u001b[0m \u001b[0;34m=\u001b[0m \u001b[0mtorch\u001b[0m\u001b[0;34m.\u001b[0m\u001b[0mutils\u001b[0m\u001b[0;34m.\u001b[0m\u001b[0mdata\u001b[0m\u001b[0;34m.\u001b[0m\u001b[0mDataLoader\u001b[0m\u001b[0;34m(\u001b[0m\u001b[0mtrain_dataset\u001b[0m\u001b[0;34m,\u001b[0m \u001b[0mbatch_size\u001b[0m\u001b[0;34m=\u001b[0m\u001b[0;36m16\u001b[0m\u001b[0;34m,\u001b[0m \u001b[0mcollate_fn\u001b[0m\u001b[0;34m=\u001b[0m\u001b[0moffsetify\u001b[0m\u001b[0;34m,\u001b[0m \u001b[0mshuffle\u001b[0m\u001b[0;34m=\u001b[0m\u001b[0;32mTrue\u001b[0m\u001b[0;34m)\u001b[0m\u001b[0;34m\u001b[0m\u001b[0;34m\u001b[0m\u001b[0m\n\u001b[0;32m----> 2\u001b[0;31m \u001b[0mtrain_epoch_emb\u001b[0m\u001b[0;34m(\u001b[0m\u001b[0mnet\u001b[0m\u001b[0;34m,\u001b[0m\u001b[0mtrain_loader\u001b[0m\u001b[0;34m,\u001b[0m \u001b[0mlr\u001b[0m\u001b[0;34m=\u001b[0m\u001b[0;36m4\u001b[0m\u001b[0;34m,\u001b[0m \u001b[0mepoch_size\u001b[0m\u001b[0;34m=\u001b[0m\u001b[0;36m25000\u001b[0m\u001b[0;34m)\u001b[0m\u001b[0;34m\u001b[0m\u001b[0;34m\u001b[0m\u001b[0m\n\u001b[0m",
            "\u001b[0;32m/content/torchnlp.py\u001b[0m in \u001b[0;36mtrain_epoch_emb\u001b[0;34m(net, dataloader, lr, optimizer, loss_fn, epoch_size, report_freq, use_pack_sequence)\u001b[0m\n\u001b[1;32m     91\u001b[0m     \u001b[0mnet\u001b[0m\u001b[0;34m.\u001b[0m\u001b[0mtrain\u001b[0m\u001b[0;34m(\u001b[0m\u001b[0;34m)\u001b[0m\u001b[0;34m\u001b[0m\u001b[0;34m\u001b[0m\u001b[0m\n\u001b[1;32m     92\u001b[0m     \u001b[0mtotal_loss\u001b[0m\u001b[0;34m,\u001b[0m\u001b[0macc\u001b[0m\u001b[0;34m,\u001b[0m\u001b[0mcount\u001b[0m\u001b[0;34m,\u001b[0m\u001b[0mi\u001b[0m \u001b[0;34m=\u001b[0m \u001b[0;36m0\u001b[0m\u001b[0;34m,\u001b[0m\u001b[0;36m0\u001b[0m\u001b[0;34m,\u001b[0m\u001b[0;36m0\u001b[0m\u001b[0;34m,\u001b[0m\u001b[0;36m0\u001b[0m\u001b[0;34m\u001b[0m\u001b[0;34m\u001b[0m\u001b[0m\n\u001b[0;32m---> 93\u001b[0;31m     \u001b[0;32mfor\u001b[0m \u001b[0mlabels\u001b[0m\u001b[0;34m,\u001b[0m\u001b[0mtext\u001b[0m\u001b[0;34m,\u001b[0m\u001b[0moff\u001b[0m \u001b[0;32min\u001b[0m \u001b[0mdataloader\u001b[0m\u001b[0;34m:\u001b[0m\u001b[0;34m\u001b[0m\u001b[0;34m\u001b[0m\u001b[0m\n\u001b[0m\u001b[1;32m     94\u001b[0m         \u001b[0moptimizer\u001b[0m\u001b[0;34m.\u001b[0m\u001b[0mzero_grad\u001b[0m\u001b[0;34m(\u001b[0m\u001b[0;34m)\u001b[0m\u001b[0;34m\u001b[0m\u001b[0;34m\u001b[0m\u001b[0m\n\u001b[1;32m     95\u001b[0m         \u001b[0mlabels\u001b[0m\u001b[0;34m,\u001b[0m\u001b[0mtext\u001b[0m \u001b[0;34m=\u001b[0m \u001b[0mlabels\u001b[0m\u001b[0;34m.\u001b[0m\u001b[0mto\u001b[0m\u001b[0;34m(\u001b[0m\u001b[0mdevice\u001b[0m\u001b[0;34m)\u001b[0m\u001b[0;34m,\u001b[0m \u001b[0mtext\u001b[0m\u001b[0;34m.\u001b[0m\u001b[0mto\u001b[0m\u001b[0;34m(\u001b[0m\u001b[0mdevice\u001b[0m\u001b[0;34m)\u001b[0m\u001b[0;34m\u001b[0m\u001b[0;34m\u001b[0m\u001b[0m\n",
            "\u001b[0;32m/usr/local/lib/python3.7/dist-packages/torch/utils/data/dataloader.py\u001b[0m in \u001b[0;36m__next__\u001b[0;34m(self)\u001b[0m\n\u001b[1;32m    519\u001b[0m             \u001b[0;32mif\u001b[0m \u001b[0mself\u001b[0m\u001b[0;34m.\u001b[0m\u001b[0m_sampler_iter\u001b[0m \u001b[0;32mis\u001b[0m \u001b[0;32mNone\u001b[0m\u001b[0;34m:\u001b[0m\u001b[0;34m\u001b[0m\u001b[0;34m\u001b[0m\u001b[0m\n\u001b[1;32m    520\u001b[0m                 \u001b[0mself\u001b[0m\u001b[0;34m.\u001b[0m\u001b[0m_reset\u001b[0m\u001b[0;34m(\u001b[0m\u001b[0;34m)\u001b[0m\u001b[0;34m\u001b[0m\u001b[0;34m\u001b[0m\u001b[0m\n\u001b[0;32m--> 521\u001b[0;31m             \u001b[0mdata\u001b[0m \u001b[0;34m=\u001b[0m \u001b[0mself\u001b[0m\u001b[0;34m.\u001b[0m\u001b[0m_next_data\u001b[0m\u001b[0;34m(\u001b[0m\u001b[0;34m)\u001b[0m\u001b[0;34m\u001b[0m\u001b[0;34m\u001b[0m\u001b[0m\n\u001b[0m\u001b[1;32m    522\u001b[0m             \u001b[0mself\u001b[0m\u001b[0;34m.\u001b[0m\u001b[0m_num_yielded\u001b[0m \u001b[0;34m+=\u001b[0m \u001b[0;36m1\u001b[0m\u001b[0;34m\u001b[0m\u001b[0;34m\u001b[0m\u001b[0m\n\u001b[1;32m    523\u001b[0m             \u001b[0;32mif\u001b[0m \u001b[0mself\u001b[0m\u001b[0;34m.\u001b[0m\u001b[0m_dataset_kind\u001b[0m \u001b[0;34m==\u001b[0m \u001b[0m_DatasetKind\u001b[0m\u001b[0;34m.\u001b[0m\u001b[0mIterable\u001b[0m \u001b[0;32mand\u001b[0m\u001b[0;31m \u001b[0m\u001b[0;31m\\\u001b[0m\u001b[0;34m\u001b[0m\u001b[0;34m\u001b[0m\u001b[0m\n",
            "\u001b[0;32m/usr/local/lib/python3.7/dist-packages/torch/utils/data/dataloader.py\u001b[0m in \u001b[0;36m_next_data\u001b[0;34m(self)\u001b[0m\n\u001b[1;32m    559\u001b[0m     \u001b[0;32mdef\u001b[0m \u001b[0m_next_data\u001b[0m\u001b[0;34m(\u001b[0m\u001b[0mself\u001b[0m\u001b[0;34m)\u001b[0m\u001b[0;34m:\u001b[0m\u001b[0;34m\u001b[0m\u001b[0;34m\u001b[0m\u001b[0m\n\u001b[1;32m    560\u001b[0m         \u001b[0mindex\u001b[0m \u001b[0;34m=\u001b[0m \u001b[0mself\u001b[0m\u001b[0;34m.\u001b[0m\u001b[0m_next_index\u001b[0m\u001b[0;34m(\u001b[0m\u001b[0;34m)\u001b[0m  \u001b[0;31m# may raise StopIteration\u001b[0m\u001b[0;34m\u001b[0m\u001b[0;34m\u001b[0m\u001b[0m\n\u001b[0;32m--> 561\u001b[0;31m         \u001b[0mdata\u001b[0m \u001b[0;34m=\u001b[0m \u001b[0mself\u001b[0m\u001b[0;34m.\u001b[0m\u001b[0m_dataset_fetcher\u001b[0m\u001b[0;34m.\u001b[0m\u001b[0mfetch\u001b[0m\u001b[0;34m(\u001b[0m\u001b[0mindex\u001b[0m\u001b[0;34m)\u001b[0m  \u001b[0;31m# may raise StopIteration\u001b[0m\u001b[0;34m\u001b[0m\u001b[0;34m\u001b[0m\u001b[0m\n\u001b[0m\u001b[1;32m    562\u001b[0m         \u001b[0;32mif\u001b[0m \u001b[0mself\u001b[0m\u001b[0;34m.\u001b[0m\u001b[0m_pin_memory\u001b[0m\u001b[0;34m:\u001b[0m\u001b[0;34m\u001b[0m\u001b[0;34m\u001b[0m\u001b[0m\n\u001b[1;32m    563\u001b[0m             \u001b[0mdata\u001b[0m \u001b[0;34m=\u001b[0m \u001b[0m_utils\u001b[0m\u001b[0;34m.\u001b[0m\u001b[0mpin_memory\u001b[0m\u001b[0;34m.\u001b[0m\u001b[0mpin_memory\u001b[0m\u001b[0;34m(\u001b[0m\u001b[0mdata\u001b[0m\u001b[0;34m)\u001b[0m\u001b[0;34m\u001b[0m\u001b[0;34m\u001b[0m\u001b[0m\n",
            "\u001b[0;32m/usr/local/lib/python3.7/dist-packages/torch/utils/data/_utils/fetch.py\u001b[0m in \u001b[0;36mfetch\u001b[0;34m(self, possibly_batched_index)\u001b[0m\n\u001b[1;32m     45\u001b[0m         \u001b[0;32melse\u001b[0m\u001b[0;34m:\u001b[0m\u001b[0;34m\u001b[0m\u001b[0;34m\u001b[0m\u001b[0m\n\u001b[1;32m     46\u001b[0m             \u001b[0mdata\u001b[0m \u001b[0;34m=\u001b[0m \u001b[0mself\u001b[0m\u001b[0;34m.\u001b[0m\u001b[0mdataset\u001b[0m\u001b[0;34m[\u001b[0m\u001b[0mpossibly_batched_index\u001b[0m\u001b[0;34m]\u001b[0m\u001b[0;34m\u001b[0m\u001b[0;34m\u001b[0m\u001b[0m\n\u001b[0;32m---> 47\u001b[0;31m         \u001b[0;32mreturn\u001b[0m \u001b[0mself\u001b[0m\u001b[0;34m.\u001b[0m\u001b[0mcollate_fn\u001b[0m\u001b[0;34m(\u001b[0m\u001b[0mdata\u001b[0m\u001b[0;34m)\u001b[0m\u001b[0;34m\u001b[0m\u001b[0;34m\u001b[0m\u001b[0m\n\u001b[0m",
            "\u001b[0;32m<ipython-input-86-18592ceadb3c>\u001b[0m in \u001b[0;36moffsetify\u001b[0;34m(b)\u001b[0m\n\u001b[1;32m      3\u001b[0m     \u001b[0;31m# for t in b:\u001b[0m\u001b[0;34m\u001b[0m\u001b[0;34m\u001b[0m\u001b[0;34m\u001b[0m\u001b[0m\n\u001b[1;32m      4\u001b[0m     \u001b[0;31m#   print(t)\u001b[0m\u001b[0;34m\u001b[0m\u001b[0;34m\u001b[0m\u001b[0;34m\u001b[0m\u001b[0m\n\u001b[0;32m----> 5\u001b[0;31m     \u001b[0mx\u001b[0m \u001b[0;34m=\u001b[0m \u001b[0;34m[\u001b[0m\u001b[0mtorch\u001b[0m\u001b[0;34m.\u001b[0m\u001b[0mtensor\u001b[0m\u001b[0;34m(\u001b[0m\u001b[0mencode\u001b[0m\u001b[0;34m(\u001b[0m\u001b[0mt\u001b[0m\u001b[0;34m[\u001b[0m\u001b[0;36m1\u001b[0m\u001b[0;34m]\u001b[0m\u001b[0;34m,\u001b[0m\u001b[0mvoc\u001b[0m\u001b[0;34m=\u001b[0m\u001b[0mvocab\u001b[0m\u001b[0;34m)\u001b[0m\u001b[0;34m)\u001b[0m \u001b[0;32mfor\u001b[0m \u001b[0mt\u001b[0m \u001b[0;32min\u001b[0m \u001b[0mb\u001b[0m\u001b[0;34m]\u001b[0m \u001b[0;31m# pass the instance of vocab to encode function!\u001b[0m\u001b[0;34m\u001b[0m\u001b[0;34m\u001b[0m\u001b[0m\n\u001b[0m\u001b[1;32m      6\u001b[0m     \u001b[0;31m# now, compute the offsets by accumulating the tensor of sequence lengths\u001b[0m\u001b[0;34m\u001b[0m\u001b[0;34m\u001b[0m\u001b[0;34m\u001b[0m\u001b[0m\n\u001b[1;32m      7\u001b[0m     \u001b[0mo\u001b[0m \u001b[0;34m=\u001b[0m \u001b[0;34m[\u001b[0m\u001b[0;36m0\u001b[0m\u001b[0;34m]\u001b[0m \u001b[0;34m+\u001b[0m \u001b[0;34m[\u001b[0m\u001b[0mlen\u001b[0m\u001b[0;34m(\u001b[0m\u001b[0mt\u001b[0m\u001b[0;34m)\u001b[0m \u001b[0;32mfor\u001b[0m \u001b[0mt\u001b[0m \u001b[0;32min\u001b[0m \u001b[0mx\u001b[0m\u001b[0;34m]\u001b[0m\u001b[0;34m\u001b[0m\u001b[0;34m\u001b[0m\u001b[0m\n",
            "\u001b[0;32m<ipython-input-86-18592ceadb3c>\u001b[0m in \u001b[0;36m<listcomp>\u001b[0;34m(.0)\u001b[0m\n\u001b[1;32m      3\u001b[0m     \u001b[0;31m# for t in b:\u001b[0m\u001b[0;34m\u001b[0m\u001b[0;34m\u001b[0m\u001b[0;34m\u001b[0m\u001b[0m\n\u001b[1;32m      4\u001b[0m     \u001b[0;31m#   print(t)\u001b[0m\u001b[0;34m\u001b[0m\u001b[0;34m\u001b[0m\u001b[0;34m\u001b[0m\u001b[0m\n\u001b[0;32m----> 5\u001b[0;31m     \u001b[0mx\u001b[0m \u001b[0;34m=\u001b[0m \u001b[0;34m[\u001b[0m\u001b[0mtorch\u001b[0m\u001b[0;34m.\u001b[0m\u001b[0mtensor\u001b[0m\u001b[0;34m(\u001b[0m\u001b[0mencode\u001b[0m\u001b[0;34m(\u001b[0m\u001b[0mt\u001b[0m\u001b[0;34m[\u001b[0m\u001b[0;36m1\u001b[0m\u001b[0;34m]\u001b[0m\u001b[0;34m,\u001b[0m\u001b[0mvoc\u001b[0m\u001b[0;34m=\u001b[0m\u001b[0mvocab\u001b[0m\u001b[0;34m)\u001b[0m\u001b[0;34m)\u001b[0m \u001b[0;32mfor\u001b[0m \u001b[0mt\u001b[0m \u001b[0;32min\u001b[0m \u001b[0mb\u001b[0m\u001b[0;34m]\u001b[0m \u001b[0;31m# pass the instance of vocab to encode function!\u001b[0m\u001b[0;34m\u001b[0m\u001b[0;34m\u001b[0m\u001b[0m\n\u001b[0m\u001b[1;32m      6\u001b[0m     \u001b[0;31m# now, compute the offsets by accumulating the tensor of sequence lengths\u001b[0m\u001b[0;34m\u001b[0m\u001b[0;34m\u001b[0m\u001b[0;34m\u001b[0m\u001b[0m\n\u001b[1;32m      7\u001b[0m     \u001b[0mo\u001b[0m \u001b[0;34m=\u001b[0m \u001b[0;34m[\u001b[0m\u001b[0;36m0\u001b[0m\u001b[0;34m]\u001b[0m \u001b[0;34m+\u001b[0m \u001b[0;34m[\u001b[0m\u001b[0mlen\u001b[0m\u001b[0;34m(\u001b[0m\u001b[0mt\u001b[0m\u001b[0;34m)\u001b[0m \u001b[0;32mfor\u001b[0m \u001b[0mt\u001b[0m \u001b[0;32min\u001b[0m \u001b[0mx\u001b[0m\u001b[0;34m]\u001b[0m\u001b[0;34m\u001b[0m\u001b[0;34m\u001b[0m\u001b[0m\n",
            "\u001b[0;31mValueError\u001b[0m: only one element tensors can be converted to Python scalars"
          ]
        }
      ]
    }
  ]
}